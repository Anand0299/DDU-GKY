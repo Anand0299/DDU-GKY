{
 "cells": [
  {
   "cell_type": "code",
   "execution_count": 1,
   "id": "89190c12",
   "metadata": {},
   "outputs": [],
   "source": [
    "import numpy as np\n",
    "import pandas as pd\n",
    "import matplotlib.pyplot as plt\n",
    "import seaborn as sns\n",
    "import warnings\n",
    "warnings.filterwarnings(\"ignore\")\n",
    "%matplotlib inline"
   ]
  },
  {
   "cell_type": "markdown",
   "id": "29edab56",
   "metadata": {},
   "source": [
    "#### read dataset"
   ]
  },
  {
   "cell_type": "code",
   "execution_count": 2,
   "id": "c32835db",
   "metadata": {},
   "outputs": [],
   "source": [
    "data = pd.read_csv(\"TV_Sales.csv\")"
   ]
  },
  {
   "cell_type": "markdown",
   "id": "f1e4e30e",
   "metadata": {},
   "source": [
    "#### first five rows"
   ]
  },
  {
   "cell_type": "code",
   "execution_count": 3,
   "id": "1a905cd8",
   "metadata": {},
   "outputs": [
    {
     "data": {
      "text/html": [
       "<div>\n",
       "<style scoped>\n",
       "    .dataframe tbody tr th:only-of-type {\n",
       "        vertical-align: middle;\n",
       "    }\n",
       "\n",
       "    .dataframe tbody tr th {\n",
       "        vertical-align: top;\n",
       "    }\n",
       "\n",
       "    .dataframe thead th {\n",
       "        text-align: right;\n",
       "    }\n",
       "</style>\n",
       "<table border=\"1\" class=\"dataframe\">\n",
       "  <thead>\n",
       "    <tr style=\"text-align: right;\">\n",
       "      <th></th>\n",
       "      <th>TV</th>\n",
       "      <th>Sales</th>\n",
       "    </tr>\n",
       "  </thead>\n",
       "  <tbody>\n",
       "    <tr>\n",
       "      <th>0</th>\n",
       "      <td>16.0</td>\n",
       "      <td>54.732757</td>\n",
       "    </tr>\n",
       "    <tr>\n",
       "      <th>1</th>\n",
       "      <td>13.0</td>\n",
       "      <td>46.677897</td>\n",
       "    </tr>\n",
       "    <tr>\n",
       "      <th>2</th>\n",
       "      <td>41.0</td>\n",
       "      <td>150.177829</td>\n",
       "    </tr>\n",
       "    <tr>\n",
       "      <th>3</th>\n",
       "      <td>83.0</td>\n",
       "      <td>298.246340</td>\n",
       "    </tr>\n",
       "    <tr>\n",
       "      <th>4</th>\n",
       "      <td>15.0</td>\n",
       "      <td>56.594181</td>\n",
       "    </tr>\n",
       "  </tbody>\n",
       "</table>\n",
       "</div>"
      ],
      "text/plain": [
       "     TV       Sales\n",
       "0  16.0   54.732757\n",
       "1  13.0   46.677897\n",
       "2  41.0  150.177829\n",
       "3  83.0  298.246340\n",
       "4  15.0   56.594181"
      ]
     },
     "execution_count": 3,
     "metadata": {},
     "output_type": "execute_result"
    }
   ],
   "source": [
    "data.head()"
   ]
  },
  {
   "cell_type": "markdown",
   "id": "0c3671be",
   "metadata": {},
   "source": [
    "#### last five rows"
   ]
  },
  {
   "cell_type": "code",
   "execution_count": 4,
   "id": "3b150e02",
   "metadata": {},
   "outputs": [
    {
     "data": {
      "text/html": [
       "<div>\n",
       "<style scoped>\n",
       "    .dataframe tbody tr th:only-of-type {\n",
       "        vertical-align: middle;\n",
       "    }\n",
       "\n",
       "    .dataframe tbody tr th {\n",
       "        vertical-align: top;\n",
       "    }\n",
       "\n",
       "    .dataframe thead th {\n",
       "        text-align: right;\n",
       "    }\n",
       "</style>\n",
       "<table border=\"1\" class=\"dataframe\">\n",
       "  <thead>\n",
       "    <tr style=\"text-align: right;\">\n",
       "      <th></th>\n",
       "      <th>TV</th>\n",
       "      <th>Sales</th>\n",
       "    </tr>\n",
       "  </thead>\n",
       "  <tbody>\n",
       "    <tr>\n",
       "      <th>4567</th>\n",
       "      <td>26.0</td>\n",
       "      <td>94.685866</td>\n",
       "    </tr>\n",
       "    <tr>\n",
       "      <th>4568</th>\n",
       "      <td>71.0</td>\n",
       "      <td>249.101915</td>\n",
       "    </tr>\n",
       "    <tr>\n",
       "      <th>4569</th>\n",
       "      <td>44.0</td>\n",
       "      <td>163.631457</td>\n",
       "    </tr>\n",
       "    <tr>\n",
       "      <th>4570</th>\n",
       "      <td>71.0</td>\n",
       "      <td>253.610411</td>\n",
       "    </tr>\n",
       "    <tr>\n",
       "      <th>4571</th>\n",
       "      <td>42.0</td>\n",
       "      <td>148.202414</td>\n",
       "    </tr>\n",
       "  </tbody>\n",
       "</table>\n",
       "</div>"
      ],
      "text/plain": [
       "        TV       Sales\n",
       "4567  26.0   94.685866\n",
       "4568  71.0  249.101915\n",
       "4569  44.0  163.631457\n",
       "4570  71.0  253.610411\n",
       "4571  42.0  148.202414"
      ]
     },
     "execution_count": 4,
     "metadata": {},
     "output_type": "execute_result"
    }
   ],
   "source": [
    "data.tail()"
   ]
  },
  {
   "cell_type": "markdown",
   "id": "74376ffc",
   "metadata": {},
   "source": [
    "#### sample from dataset"
   ]
  },
  {
   "cell_type": "code",
   "execution_count": 5,
   "id": "adb7e971",
   "metadata": {},
   "outputs": [
    {
     "data": {
      "text/html": [
       "<div>\n",
       "<style scoped>\n",
       "    .dataframe tbody tr th:only-of-type {\n",
       "        vertical-align: middle;\n",
       "    }\n",
       "\n",
       "    .dataframe tbody tr th {\n",
       "        vertical-align: top;\n",
       "    }\n",
       "\n",
       "    .dataframe thead th {\n",
       "        text-align: right;\n",
       "    }\n",
       "</style>\n",
       "<table border=\"1\" class=\"dataframe\">\n",
       "  <thead>\n",
       "    <tr style=\"text-align: right;\">\n",
       "      <th></th>\n",
       "      <th>TV</th>\n",
       "      <th>Sales</th>\n",
       "    </tr>\n",
       "  </thead>\n",
       "  <tbody>\n",
       "    <tr>\n",
       "      <th>2145</th>\n",
       "      <td>27.0</td>\n",
       "      <td>93.618855</td>\n",
       "    </tr>\n",
       "    <tr>\n",
       "      <th>206</th>\n",
       "      <td>12.0</td>\n",
       "      <td>50.009210</td>\n",
       "    </tr>\n",
       "    <tr>\n",
       "      <th>2119</th>\n",
       "      <td>92.0</td>\n",
       "      <td>328.239378</td>\n",
       "    </tr>\n",
       "    <tr>\n",
       "      <th>3628</th>\n",
       "      <td>27.0</td>\n",
       "      <td>96.015125</td>\n",
       "    </tr>\n",
       "  </tbody>\n",
       "</table>\n",
       "</div>"
      ],
      "text/plain": [
       "        TV       Sales\n",
       "2145  27.0   93.618855\n",
       "206   12.0   50.009210\n",
       "2119  92.0  328.239378\n",
       "3628  27.0   96.015125"
      ]
     },
     "execution_count": 5,
     "metadata": {},
     "output_type": "execute_result"
    }
   ],
   "source": [
    "data.sample(4)"
   ]
  },
  {
   "cell_type": "markdown",
   "id": "97508b85",
   "metadata": {},
   "source": [
    "#### shape of dataset in terms of rows & columns"
   ]
  },
  {
   "cell_type": "code",
   "execution_count": 6,
   "id": "4dd1ea55",
   "metadata": {},
   "outputs": [
    {
     "data": {
      "text/plain": [
       "(4572, 2)"
      ]
     },
     "execution_count": 6,
     "metadata": {},
     "output_type": "execute_result"
    }
   ],
   "source": [
    "data.shape"
   ]
  },
  {
   "cell_type": "markdown",
   "id": "10c65282",
   "metadata": {},
   "source": [
    "#### dtype of columns"
   ]
  },
  {
   "cell_type": "code",
   "execution_count": 7,
   "id": "03d71688",
   "metadata": {},
   "outputs": [
    {
     "name": "stdout",
     "output_type": "stream",
     "text": [
      "<class 'pandas.core.frame.DataFrame'>\n",
      "RangeIndex: 4572 entries, 0 to 4571\n",
      "Data columns (total 2 columns):\n",
      " #   Column  Non-Null Count  Dtype  \n",
      "---  ------  --------------  -----  \n",
      " 0   TV      4562 non-null   float64\n",
      " 1   Sales   4566 non-null   float64\n",
      "dtypes: float64(2)\n",
      "memory usage: 71.6 KB\n"
     ]
    }
   ],
   "source": [
    "data.info()"
   ]
  },
  {
   "cell_type": "markdown",
   "id": "9634dba6",
   "metadata": {},
   "source": [
    "#### percentage of null values"
   ]
  },
  {
   "cell_type": "code",
   "execution_count": 8,
   "id": "85d713cf",
   "metadata": {
    "scrolled": true
   },
   "outputs": [
    {
     "data": {
      "text/plain": [
       "TV       0.218723\n",
       "Sales    0.131234\n",
       "dtype: float64"
      ]
     },
     "execution_count": 8,
     "metadata": {},
     "output_type": "execute_result"
    }
   ],
   "source": [
    "data.isnull().sum() * 100 / len(data)"
   ]
  },
  {
   "cell_type": "code",
   "execution_count": 9,
   "id": "03bb3292",
   "metadata": {},
   "outputs": [
    {
     "data": {
      "text/plain": [
       "array([ 16.,  13.,  41.,  83.,  15.,  29.,  55.,  31.,  76.,  62.,  42.,\n",
       "        64.,  nan,  34.,  36.,  60.,  25., 100.,  92.,  46.,  78.,  37.,\n",
       "        99.,  75.,  54.,  27.,  21.,  40.,  67.,  90.,  12.,  81.,  43.,\n",
       "        47.,  79.,  65.,  82.,  68.,  98.,  26.,  10.,  32.,  91.,  72.,\n",
       "        49.,  14.,  20.,  17.,  52.,  84.,  70.,  77.,  56.,  18.,  22.,\n",
       "        94.,  97.,  44.,  86.,  93.,  30.,  95.,  39.,  87.,  38.,  63.,\n",
       "        24.,  74.,  85.,  33.,  88.,  59.,  61.,  51.,  73.,  58.,  69.,\n",
       "        89.,  11.,  53.,  19.,  45.,  23.,  35.,  71.,  28.,  66.,  50.,\n",
       "        48.,  96.,  80.,  57.])"
      ]
     },
     "execution_count": 9,
     "metadata": {},
     "output_type": "execute_result"
    }
   ],
   "source": [
    "data.TV.unique()"
   ]
  },
  {
   "cell_type": "code",
   "execution_count": 13,
   "id": "507d859f",
   "metadata": {},
   "outputs": [],
   "source": [
    "data[\"TV\"] = data[\"TV\"].fillna(value = data.TV.median())"
   ]
  },
  {
   "cell_type": "code",
   "execution_count": 16,
   "id": "60143cf5",
   "metadata": {},
   "outputs": [
    {
     "data": {
      "text/plain": [
       "0"
      ]
     },
     "execution_count": 16,
     "metadata": {},
     "output_type": "execute_result"
    }
   ],
   "source": [
    "data.TV.isnull().sum()"
   ]
  },
  {
   "cell_type": "code",
   "execution_count": 20,
   "id": "2d8bae14",
   "metadata": {},
   "outputs": [],
   "source": [
    "data[\"Sales\"] = data[\"Sales\"].fillna(value = data.Sales.median())"
   ]
  },
  {
   "cell_type": "code",
   "execution_count": 21,
   "id": "42637db3",
   "metadata": {},
   "outputs": [
    {
     "data": {
      "text/plain": [
       "0"
      ]
     },
     "execution_count": 21,
     "metadata": {},
     "output_type": "execute_result"
    }
   ],
   "source": [
    "data.Sales.isnull().sum()"
   ]
  },
  {
   "cell_type": "code",
   "execution_count": 22,
   "id": "b7065b24",
   "metadata": {},
   "outputs": [
    {
     "data": {
      "text/plain": [
       "TV       0.0\n",
       "Sales    0.0\n",
       "dtype: float64"
      ]
     },
     "execution_count": 22,
     "metadata": {},
     "output_type": "execute_result"
    }
   ],
   "source": [
    "data.isnull().sum() * 100 / len(data)"
   ]
  },
  {
   "cell_type": "code",
   "execution_count": 23,
   "id": "2200ce3e",
   "metadata": {},
   "outputs": [
    {
     "data": {
      "text/plain": [
       "0"
      ]
     },
     "execution_count": 23,
     "metadata": {},
     "output_type": "execute_result"
    }
   ],
   "source": [
    "data.duplicated().sum()"
   ]
  },
  {
   "cell_type": "code",
   "execution_count": 24,
   "id": "f803551f",
   "metadata": {},
   "outputs": [
    {
     "data": {
      "text/plain": [
       "(4572, 2)"
      ]
     },
     "execution_count": 24,
     "metadata": {},
     "output_type": "execute_result"
    }
   ],
   "source": [
    "data.shape"
   ]
  },
  {
   "cell_type": "code",
   "execution_count": 29,
   "id": "0ff101d3",
   "metadata": {},
   "outputs": [
    {
     "data": {
      "text/html": [
       "<div>\n",
       "<style scoped>\n",
       "    .dataframe tbody tr th:only-of-type {\n",
       "        vertical-align: middle;\n",
       "    }\n",
       "\n",
       "    .dataframe tbody tr th {\n",
       "        vertical-align: top;\n",
       "    }\n",
       "\n",
       "    .dataframe thead th {\n",
       "        text-align: right;\n",
       "    }\n",
       "</style>\n",
       "<table border=\"1\" class=\"dataframe\">\n",
       "  <thead>\n",
       "    <tr style=\"text-align: right;\">\n",
       "      <th></th>\n",
       "      <th>TV</th>\n",
       "      <th>Sales</th>\n",
       "    </tr>\n",
       "  </thead>\n",
       "  <tbody>\n",
       "    <tr>\n",
       "      <th>count</th>\n",
       "      <td>4572.000000</td>\n",
       "      <td>4572.000000</td>\n",
       "    </tr>\n",
       "    <tr>\n",
       "      <th>mean</th>\n",
       "      <td>54.064523</td>\n",
       "      <td>192.462356</td>\n",
       "    </tr>\n",
       "    <tr>\n",
       "      <th>std</th>\n",
       "      <td>26.096509</td>\n",
       "      <td>93.072021</td>\n",
       "    </tr>\n",
       "    <tr>\n",
       "      <th>min</th>\n",
       "      <td>10.000000</td>\n",
       "      <td>31.199409</td>\n",
       "    </tr>\n",
       "    <tr>\n",
       "      <th>25%</th>\n",
       "      <td>32.000000</td>\n",
       "      <td>112.397660</td>\n",
       "    </tr>\n",
       "    <tr>\n",
       "      <th>50%</th>\n",
       "      <td>53.000000</td>\n",
       "      <td>189.231172</td>\n",
       "    </tr>\n",
       "    <tr>\n",
       "      <th>75%</th>\n",
       "      <td>77.000000</td>\n",
       "      <td>272.414914</td>\n",
       "    </tr>\n",
       "    <tr>\n",
       "      <th>max</th>\n",
       "      <td>100.000000</td>\n",
       "      <td>364.079751</td>\n",
       "    </tr>\n",
       "  </tbody>\n",
       "</table>\n",
       "</div>"
      ],
      "text/plain": [
       "                TV        Sales\n",
       "count  4572.000000  4572.000000\n",
       "mean     54.064523   192.462356\n",
       "std      26.096509    93.072021\n",
       "min      10.000000    31.199409\n",
       "25%      32.000000   112.397660\n",
       "50%      53.000000   189.231172\n",
       "75%      77.000000   272.414914\n",
       "max     100.000000   364.079751"
      ]
     },
     "execution_count": 29,
     "metadata": {},
     "output_type": "execute_result"
    }
   ],
   "source": [
    "data.describe()"
   ]
  },
  {
   "cell_type": "markdown",
   "id": "153d7e48",
   "metadata": {},
   "source": [
    "#### boxplot to find outlier"
   ]
  },
  {
   "cell_type": "code",
   "execution_count": 30,
   "id": "631c65e8",
   "metadata": {},
   "outputs": [
    {
     "data": {
      "image/png": "[encoded data removed]",
      "text/plain": [
       "<Figure size 640x480 with 1 Axes>"
      ]
     },
     "metadata": {},
     "output_type": "display_data"
    },
    {
     "data": {
      "image/png": "[encoded data removed]",
      "text/plain": [
       "<Figure size 640x480 with 1 Axes>"
      ]
     },
     "metadata": {},
     "output_type": "display_data"
    }
   ],
   "source": [
    "for i in data.columns:\n",
    "    sns.boxplot(y = data[i], color = \"red\")\n",
    "    plt.show();"
   ]
  },
  {
   "cell_type": "markdown",
   "id": "6271eef4",
   "metadata": {},
   "source": [
    "#### assigning feature(independent variable) to variable \"x\""
   ]
  },
  {
   "cell_type": "code",
   "execution_count": 31,
   "id": "636e1602",
   "metadata": {},
   "outputs": [
    {
     "data": {
      "text/plain": [
       "array([[16.],\n",
       "       [13.],\n",
       "       [41.],\n",
       "       ...,\n",
       "       [44.],\n",
       "       [71.],\n",
       "       [42.]])"
      ]
     },
     "execution_count": 31,
     "metadata": {},
     "output_type": "execute_result"
    }
   ],
   "source": [
    "x = data[[\"TV\"]].values\n",
    "x"
   ]
  },
  {
   "cell_type": "markdown",
   "id": "8f31f520",
   "metadata": {},
   "source": [
    "#### assigning target variable to y"
   ]
  },
  {
   "cell_type": "code",
   "execution_count": 32,
   "id": "98183995",
   "metadata": {},
   "outputs": [
    {
     "data": {
      "text/plain": [
       "array([[ 54.73275715],\n",
       "       [ 46.67789698],\n",
       "       [150.1778288 ],\n",
       "       ...,\n",
       "       [163.6314574 ],\n",
       "       [253.6104113 ],\n",
       "       [148.2024141 ]])"
      ]
     },
     "execution_count": 32,
     "metadata": {},
     "output_type": "execute_result"
    }
   ],
   "source": [
    "y = data[[\"Sales\"]].values\n",
    "y"
   ]
  },
  {
   "cell_type": "markdown",
   "id": "3465a5d6",
   "metadata": {},
   "source": [
    "#### standard scalar"
   ]
  },
  {
   "cell_type": "code",
   "execution_count": 33,
   "id": "3dbc65e8",
   "metadata": {},
   "outputs": [],
   "source": [
    "from sklearn.preprocessing import StandardScaler"
   ]
  },
  {
   "cell_type": "code",
   "execution_count": 35,
   "id": "4a4871bd",
   "metadata": {},
   "outputs": [],
   "source": [
    "sc = StandardScaler()"
   ]
  },
  {
   "cell_type": "code",
   "execution_count": 36,
   "id": "c0d88493",
   "metadata": {
    "scrolled": true
   },
   "outputs": [
    {
     "data": {
      "text/plain": [
       "array([[-1.45876549],\n",
       "       [-1.57373597],\n",
       "       [-0.50067816],\n",
       "       ...,\n",
       "       [-0.38570769],\n",
       "       [ 0.64902663],\n",
       "       [-0.46235467]])"
      ]
     },
     "execution_count": 36,
     "metadata": {},
     "output_type": "execute_result"
    }
   ],
   "source": [
    "x = sc.fit_transform(x)\n",
    "x"
   ]
  },
  {
   "cell_type": "markdown",
   "id": "5ffb7cd5",
   "metadata": {},
   "source": [
    "#### split data to training and testing set"
   ]
  },
  {
   "cell_type": "code",
   "execution_count": 37,
   "id": "77a19814",
   "metadata": {},
   "outputs": [],
   "source": [
    "from sklearn.model_selection import train_test_split"
   ]
  },
  {
   "cell_type": "code",
   "execution_count": 38,
   "id": "dccc96ab",
   "metadata": {},
   "outputs": [],
   "source": [
    "x_train, x_test, y_train, y_test = train_test_split(x, y, test_size = 0.2, random_state = 0)"
   ]
  },
  {
   "cell_type": "code",
   "execution_count": 39,
   "id": "e7d1122a",
   "metadata": {
    "scrolled": true
   },
   "outputs": [
    {
     "name": "stdout",
     "output_type": "stream",
     "text": [
      "(3657, 1)\n",
      "(915, 1)\n",
      "(3657, 1)\n",
      "(915, 1)\n"
     ]
    }
   ],
   "source": [
    "#shape of training and testing set\n",
    "\n",
    "print(x_train.shape)\n",
    "print(x_test.shape)\n",
    "print(y_train.shape)\n",
    "print(y_test.shape)"
   ]
  },
  {
   "cell_type": "markdown",
   "id": "99d6e2ff",
   "metadata": {},
   "source": [
    "#### Linear Regresion model"
   ]
  },
  {
   "cell_type": "code",
   "execution_count": 40,
   "id": "53054e0a",
   "metadata": {},
   "outputs": [],
   "source": [
    "from sklearn.linear_model import LinearRegression"
   ]
  },
  {
   "cell_type": "code",
   "execution_count": 41,
   "id": "de1dca1a",
   "metadata": {},
   "outputs": [],
   "source": [
    "model = LinearRegression()"
   ]
  },
  {
   "cell_type": "code",
   "execution_count": 42,
   "id": "065d0330",
   "metadata": {},
   "outputs": [
    {
     "data": {
      "text/plain": [
       "LinearRegression()"
      ]
     },
     "execution_count": 42,
     "metadata": {},
     "output_type": "execute_result"
    }
   ],
   "source": [
    "#fit linear regression to our training dataset\n",
    "\n",
    "model.fit(x_train, y_train)"
   ]
  },
  {
   "cell_type": "code",
   "execution_count": 43,
   "id": "e7fc88c3",
   "metadata": {},
   "outputs": [
    {
     "data": {
      "text/plain": [
       "array([[92.79193764]])"
      ]
     },
     "execution_count": 43,
     "metadata": {},
     "output_type": "execute_result"
    }
   ],
   "source": [
    "#coefficient of model, y = mx + c\n",
    "\n",
    "model.coef_"
   ]
  },
  {
   "cell_type": "code",
   "execution_count": 44,
   "id": "ae38882f",
   "metadata": {
    "scrolled": true
   },
   "outputs": [
    {
     "data": {
      "text/plain": [
       "array([192.55116082])"
      ]
     },
     "execution_count": 44,
     "metadata": {},
     "output_type": "execute_result"
    }
   ],
   "source": [
    "#intercept/slope of model, y = mx + c\n",
    "\n",
    "model.intercept_"
   ]
  },
  {
   "cell_type": "code",
   "execution_count": 48,
   "id": "51f003b4",
   "metadata": {},
   "outputs": [
    {
     "name": "stdout",
     "output_type": "stream",
     "text": [
      "training accuracy be:  99.29029792998794\n"
     ]
    }
   ],
   "source": [
    "#accuracy of model : training\n",
    "\n",
    "train_accuracy = model.score(x_train, y_train) * 100\n",
    "print(\"training accuracy be: \", train_accuracy)"
   ]
  },
  {
   "cell_type": "code",
   "execution_count": 49,
   "id": "ee28d40d",
   "metadata": {},
   "outputs": [
    {
     "name": "stdout",
     "output_type": "stream",
     "text": [
      "testing accuracy be:  99.48008131619018\n"
     ]
    }
   ],
   "source": [
    "#accuracy of model : testing\n",
    "\n",
    "test_accuracy = model.score(x_test, y_test) * 100\n",
    "print(\"testing accuracy be: \", test_accuracy)"
   ]
  },
  {
   "cell_type": "code",
   "execution_count": 46,
   "id": "da577654",
   "metadata": {
    "scrolled": true
   },
   "outputs": [
    {
     "data": {
      "text/plain": [
       "array([[ 57.18948418],\n",
       "       [ 46.52115063],\n",
       "       [146.0922638 ],\n",
       "       ...,\n",
       "       [156.76059736],\n",
       "       [252.77559935],\n",
       "       [149.64837499]])"
      ]
     },
     "execution_count": 46,
     "metadata": {},
     "output_type": "execute_result"
    }
   ],
   "source": [
    "#target variable : predicted values\n",
    "\n",
    "y_pred = model.predict(x)\n",
    "y_pred"
   ]
  },
  {
   "cell_type": "markdown",
   "id": "eae17ba1",
   "metadata": {},
   "source": [
    "#### r2_score, mean_squared_error, mean_absolute_error"
   ]
  },
  {
   "cell_type": "code",
   "execution_count": 47,
   "id": "525e3e44",
   "metadata": {},
   "outputs": [],
   "source": [
    "from sklearn.metrics import r2_score, mean_squared_error, mean_absolute_error"
   ]
  },
  {
   "cell_type": "code",
   "execution_count": 51,
   "id": "19347760",
   "metadata": {},
   "outputs": [
    {
     "name": "stdout",
     "output_type": "stream",
     "text": [
      "r2 score be:  99.48008131619018\n"
     ]
    }
   ],
   "source": [
    "R2_score = r2_score(y_test, model.predict(x_test)) * 100\n",
    "print(\"r2 score be: \", R2_score)"
   ]
  },
  {
   "cell_type": "code",
   "execution_count": 52,
   "id": "3f85779c",
   "metadata": {},
   "outputs": [
    {
     "name": "stdout",
     "output_type": "stream",
     "text": [
      "mean squared error be:  45.0201027262285\n"
     ]
    }
   ],
   "source": [
    "mse = mean_squared_error(y_test, model.predict(x_test))\n",
    "print(\"mean squared error be: \", mse)"
   ]
  },
  {
   "cell_type": "code",
   "execution_count": 53,
   "id": "489ef39f",
   "metadata": {
    "scrolled": true
   },
   "outputs": [
    {
     "name": "stdout",
     "output_type": "stream",
     "text": [
      "mean absolute error be:  2.6264449575130406\n"
     ]
    }
   ],
   "source": [
    "mae = mean_absolute_error(y_test, model.predict(x_test))\n",
    "print(\"mean absolute error be: \", mae)"
   ]
  },
  {
   "cell_type": "markdown",
   "id": "d659747e",
   "metadata": {},
   "source": [
    "#### dataframe of Actual and Predicted"
   ]
  },
  {
   "cell_type": "code",
   "execution_count": 54,
   "id": "db59a66f",
   "metadata": {},
   "outputs": [
    {
     "data": {
      "text/html": [
       "<div>\n",
       "<style scoped>\n",
       "    .dataframe tbody tr th:only-of-type {\n",
       "        vertical-align: middle;\n",
       "    }\n",
       "\n",
       "    .dataframe tbody tr th {\n",
       "        vertical-align: top;\n",
       "    }\n",
       "\n",
       "    .dataframe thead th {\n",
       "        text-align: right;\n",
       "    }\n",
       "</style>\n",
       "<table border=\"1\" class=\"dataframe\">\n",
       "  <thead>\n",
       "    <tr style=\"text-align: right;\">\n",
       "      <th></th>\n",
       "      <th>Actual</th>\n",
       "      <th>Predicted</th>\n",
       "    </tr>\n",
       "  </thead>\n",
       "  <tbody>\n",
       "    <tr>\n",
       "      <th>0</th>\n",
       "      <td>54.732757</td>\n",
       "      <td>57.189484</td>\n",
       "    </tr>\n",
       "    <tr>\n",
       "      <th>1</th>\n",
       "      <td>46.677897</td>\n",
       "      <td>46.521151</td>\n",
       "    </tr>\n",
       "    <tr>\n",
       "      <th>2</th>\n",
       "      <td>150.177829</td>\n",
       "      <td>146.092264</td>\n",
       "    </tr>\n",
       "    <tr>\n",
       "      <th>3</th>\n",
       "      <td>298.246340</td>\n",
       "      <td>295.448934</td>\n",
       "    </tr>\n",
       "    <tr>\n",
       "      <th>4</th>\n",
       "      <td>56.594181</td>\n",
       "      <td>53.633373</td>\n",
       "    </tr>\n",
       "    <tr>\n",
       "      <th>...</th>\n",
       "      <td>...</td>\n",
       "      <td>...</td>\n",
       "    </tr>\n",
       "    <tr>\n",
       "      <th>4567</th>\n",
       "      <td>94.685866</td>\n",
       "      <td>92.750596</td>\n",
       "    </tr>\n",
       "    <tr>\n",
       "      <th>4568</th>\n",
       "      <td>249.101915</td>\n",
       "      <td>252.775599</td>\n",
       "    </tr>\n",
       "    <tr>\n",
       "      <th>4569</th>\n",
       "      <td>163.631457</td>\n",
       "      <td>156.760597</td>\n",
       "    </tr>\n",
       "    <tr>\n",
       "      <th>4570</th>\n",
       "      <td>253.610411</td>\n",
       "      <td>252.775599</td>\n",
       "    </tr>\n",
       "    <tr>\n",
       "      <th>4571</th>\n",
       "      <td>148.202414</td>\n",
       "      <td>149.648375</td>\n",
       "    </tr>\n",
       "  </tbody>\n",
       "</table>\n",
       "<p>4572 rows × 2 columns</p>\n",
       "</div>"
      ],
      "text/plain": [
       "          Actual   Predicted\n",
       "0      54.732757   57.189484\n",
       "1      46.677897   46.521151\n",
       "2     150.177829  146.092264\n",
       "3     298.246340  295.448934\n",
       "4      56.594181   53.633373\n",
       "...          ...         ...\n",
       "4567   94.685866   92.750596\n",
       "4568  249.101915  252.775599\n",
       "4569  163.631457  156.760597\n",
       "4570  253.610411  252.775599\n",
       "4571  148.202414  149.648375\n",
       "\n",
       "[4572 rows x 2 columns]"
      ]
     },
     "execution_count": 54,
     "metadata": {},
     "output_type": "execute_result"
    }
   ],
   "source": [
    "output = pd.DataFrame(zip(y, y_pred), columns = (\"Actual\", \"Predicted\"), dtype = float)\n",
    "output"
   ]
  },
  {
   "cell_type": "markdown",
   "id": "c58ff51e",
   "metadata": {},
   "source": [
    "#### plotting of new dataframe \"output\""
   ]
  },
  {
   "cell_type": "markdown",
   "id": "90b3427a",
   "metadata": {},
   "source": [
    "#### 1. scatterplot"
   ]
  },
  {
   "cell_type": "code",
   "execution_count": 56,
   "id": "fdd44579",
   "metadata": {},
   "outputs": [
    {
     "data": {
      "image/png": "[encoded data removed]",
      "text/plain": [
       "<Figure size 1000x500 with 1 Axes>"
      ]
     },
     "metadata": {},
     "output_type": "display_data"
    }
   ],
   "source": [
    "plt.figure(figsize = (10, 5))\n",
    "plt.title(\"Actual VS Predicted\")\n",
    "sns.scatterplot(data = output, x =\"Actual\", y = \"Predicted\")\n",
    "plt.show();"
   ]
  },
  {
   "cell_type": "markdown",
   "id": "3c2ebf3b",
   "metadata": {},
   "source": [
    "#### 2. lineplot"
   ]
  },
  {
   "cell_type": "code",
   "execution_count": 59,
   "id": "505dc816",
   "metadata": {},
   "outputs": [
    {
     "data": {
      "image/png": "[encoded data removed]",
      "text/plain": [
       "<Figure size 1000x500 with 1 Axes>"
      ]
     },
     "metadata": {},
     "output_type": "display_data"
    }
   ],
   "source": [
    "plt.figure(figsize = (10, 5))\n",
    "plt.title(\"Actual VS Predicted\")\n",
    "sns.lineplot(data = output, x = \"Actual\", y = \"Predicted\")\n",
    "plt.show();"
   ]
  }
 ],
 "metadata": {
  "kernelspec": {
   "display_name": "Python 3 (ipykernel)",
   "language": "python",
   "name": "python3"
  },
  "language_info": {
   "codemirror_mode": {
    "name": "ipython",
    "version": 3
   },
   "file_extension": ".py",
   "mimetype": "text/x-python",
   "name": "python",
   "nbconvert_exporter": "python",
   "pygments_lexer": "ipython3",
   "version": "3.9.13"
  }
 },
 "nbformat": 4,
 "nbformat_minor": 5
}
