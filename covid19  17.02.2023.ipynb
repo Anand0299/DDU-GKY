{
 "cells": [
  {
   "cell_type": "code",
   "execution_count": 1,
   "id": "cca5dd8a",
   "metadata": {},
   "outputs": [],
   "source": [
    "import numpy as np\n",
    "import pandas as pd\n",
    "\n",
    "import warnings\n",
    "warnings.filterwarnings(\"ignore\")"
   ]
  },
  {
   "cell_type": "code",
   "execution_count": 2,
   "id": "660a9cb0",
   "metadata": {},
   "outputs": [],
   "source": [
    "data = pd.read_csv(\"covid19.csv\")"
   ]
  },
  {
   "cell_type": "code",
   "execution_count": 3,
   "id": "91b5b928",
   "metadata": {},
   "outputs": [
    {
     "data": {
      "text/html": [
       "<div>\n",
       "<style scoped>\n",
       "    .dataframe tbody tr th:only-of-type {\n",
       "        vertical-align: middle;\n",
       "    }\n",
       "\n",
       "    .dataframe tbody tr th {\n",
       "        vertical-align: top;\n",
       "    }\n",
       "\n",
       "    .dataframe thead th {\n",
       "        text-align: right;\n",
       "    }\n",
       "</style>\n",
       "<table border=\"1\" class=\"dataframe\">\n",
       "  <thead>\n",
       "    <tr style=\"text-align: right;\">\n",
       "      <th></th>\n",
       "      <th>Province/State</th>\n",
       "      <th>Country/Region</th>\n",
       "      <th>Lat</th>\n",
       "      <th>Long</th>\n",
       "      <th>Date</th>\n",
       "      <th>Confirmed</th>\n",
       "      <th>Deaths</th>\n",
       "      <th>Recovered</th>\n",
       "      <th>Active</th>\n",
       "      <th>WHO Region</th>\n",
       "    </tr>\n",
       "  </thead>\n",
       "  <tbody>\n",
       "    <tr>\n",
       "      <th>0</th>\n",
       "      <td>NaN</td>\n",
       "      <td>Afghanistan</td>\n",
       "      <td>33.93911</td>\n",
       "      <td>67.709953</td>\n",
       "      <td>2020-01-22</td>\n",
       "      <td>0</td>\n",
       "      <td>0</td>\n",
       "      <td>0</td>\n",
       "      <td>0</td>\n",
       "      <td>Eastern Mediterranean</td>\n",
       "    </tr>\n",
       "    <tr>\n",
       "      <th>1</th>\n",
       "      <td>NaN</td>\n",
       "      <td>Albania</td>\n",
       "      <td>41.15330</td>\n",
       "      <td>20.168300</td>\n",
       "      <td>2020-01-22</td>\n",
       "      <td>0</td>\n",
       "      <td>0</td>\n",
       "      <td>0</td>\n",
       "      <td>0</td>\n",
       "      <td>Europe</td>\n",
       "    </tr>\n",
       "    <tr>\n",
       "      <th>2</th>\n",
       "      <td>NaN</td>\n",
       "      <td>Algeria</td>\n",
       "      <td>28.03390</td>\n",
       "      <td>1.659600</td>\n",
       "      <td>2020-01-22</td>\n",
       "      <td>0</td>\n",
       "      <td>0</td>\n",
       "      <td>0</td>\n",
       "      <td>0</td>\n",
       "      <td>Africa</td>\n",
       "    </tr>\n",
       "    <tr>\n",
       "      <th>3</th>\n",
       "      <td>NaN</td>\n",
       "      <td>Andorra</td>\n",
       "      <td>42.50630</td>\n",
       "      <td>1.521800</td>\n",
       "      <td>2020-01-22</td>\n",
       "      <td>0</td>\n",
       "      <td>0</td>\n",
       "      <td>0</td>\n",
       "      <td>0</td>\n",
       "      <td>Europe</td>\n",
       "    </tr>\n",
       "    <tr>\n",
       "      <th>4</th>\n",
       "      <td>NaN</td>\n",
       "      <td>Angola</td>\n",
       "      <td>-11.20270</td>\n",
       "      <td>17.873900</td>\n",
       "      <td>2020-01-22</td>\n",
       "      <td>0</td>\n",
       "      <td>0</td>\n",
       "      <td>0</td>\n",
       "      <td>0</td>\n",
       "      <td>Africa</td>\n",
       "    </tr>\n",
       "  </tbody>\n",
       "</table>\n",
       "</div>"
      ],
      "text/plain": [
       "  Province/State Country/Region       Lat       Long        Date  Confirmed  \\\n",
       "0            NaN    Afghanistan  33.93911  67.709953  2020-01-22          0   \n",
       "1            NaN        Albania  41.15330  20.168300  2020-01-22          0   \n",
       "2            NaN        Algeria  28.03390   1.659600  2020-01-22          0   \n",
       "3            NaN        Andorra  42.50630   1.521800  2020-01-22          0   \n",
       "4            NaN         Angola -11.20270  17.873900  2020-01-22          0   \n",
       "\n",
       "   Deaths  Recovered  Active             WHO Region  \n",
       "0       0          0       0  Eastern Mediterranean  \n",
       "1       0          0       0                 Europe  \n",
       "2       0          0       0                 Africa  \n",
       "3       0          0       0                 Europe  \n",
       "4       0          0       0                 Africa  "
      ]
     },
     "execution_count": 3,
     "metadata": {},
     "output_type": "execute_result"
    }
   ],
   "source": [
    "data.head()"
   ]
  },
  {
   "cell_type": "code",
   "execution_count": 4,
   "id": "50e2df2c",
   "metadata": {},
   "outputs": [
    {
     "data": {
      "text/html": [
       "<div>\n",
       "<style scoped>\n",
       "    .dataframe tbody tr th:only-of-type {\n",
       "        vertical-align: middle;\n",
       "    }\n",
       "\n",
       "    .dataframe tbody tr th {\n",
       "        vertical-align: top;\n",
       "    }\n",
       "\n",
       "    .dataframe thead th {\n",
       "        text-align: right;\n",
       "    }\n",
       "</style>\n",
       "<table border=\"1\" class=\"dataframe\">\n",
       "  <thead>\n",
       "    <tr style=\"text-align: right;\">\n",
       "      <th></th>\n",
       "      <th>Province/State</th>\n",
       "      <th>Country/Region</th>\n",
       "      <th>Lat</th>\n",
       "      <th>Long</th>\n",
       "      <th>Date</th>\n",
       "      <th>Confirmed</th>\n",
       "      <th>Deaths</th>\n",
       "      <th>Recovered</th>\n",
       "      <th>Active</th>\n",
       "      <th>WHO Region</th>\n",
       "    </tr>\n",
       "  </thead>\n",
       "  <tbody>\n",
       "    <tr>\n",
       "      <th>49063</th>\n",
       "      <td>NaN</td>\n",
       "      <td>Sao Tome and Principe</td>\n",
       "      <td>0.186400</td>\n",
       "      <td>6.613100</td>\n",
       "      <td>2020-07-27</td>\n",
       "      <td>865</td>\n",
       "      <td>14</td>\n",
       "      <td>734</td>\n",
       "      <td>117</td>\n",
       "      <td>Africa</td>\n",
       "    </tr>\n",
       "    <tr>\n",
       "      <th>49064</th>\n",
       "      <td>NaN</td>\n",
       "      <td>Yemen</td>\n",
       "      <td>15.552727</td>\n",
       "      <td>48.516388</td>\n",
       "      <td>2020-07-27</td>\n",
       "      <td>1691</td>\n",
       "      <td>483</td>\n",
       "      <td>833</td>\n",
       "      <td>375</td>\n",
       "      <td>Eastern Mediterranean</td>\n",
       "    </tr>\n",
       "    <tr>\n",
       "      <th>49065</th>\n",
       "      <td>NaN</td>\n",
       "      <td>Comoros</td>\n",
       "      <td>-11.645500</td>\n",
       "      <td>43.333300</td>\n",
       "      <td>2020-07-27</td>\n",
       "      <td>354</td>\n",
       "      <td>7</td>\n",
       "      <td>328</td>\n",
       "      <td>19</td>\n",
       "      <td>Africa</td>\n",
       "    </tr>\n",
       "    <tr>\n",
       "      <th>49066</th>\n",
       "      <td>NaN</td>\n",
       "      <td>Tajikistan</td>\n",
       "      <td>38.861000</td>\n",
       "      <td>71.276100</td>\n",
       "      <td>2020-07-27</td>\n",
       "      <td>7235</td>\n",
       "      <td>60</td>\n",
       "      <td>6028</td>\n",
       "      <td>1147</td>\n",
       "      <td>Europe</td>\n",
       "    </tr>\n",
       "    <tr>\n",
       "      <th>49067</th>\n",
       "      <td>NaN</td>\n",
       "      <td>Lesotho</td>\n",
       "      <td>-29.610000</td>\n",
       "      <td>28.233600</td>\n",
       "      <td>2020-07-27</td>\n",
       "      <td>505</td>\n",
       "      <td>12</td>\n",
       "      <td>128</td>\n",
       "      <td>365</td>\n",
       "      <td>Africa</td>\n",
       "    </tr>\n",
       "  </tbody>\n",
       "</table>\n",
       "</div>"
      ],
      "text/plain": [
       "      Province/State         Country/Region        Lat       Long        Date  \\\n",
       "49063            NaN  Sao Tome and Principe   0.186400   6.613100  2020-07-27   \n",
       "49064            NaN                  Yemen  15.552727  48.516388  2020-07-27   \n",
       "49065            NaN                Comoros -11.645500  43.333300  2020-07-27   \n",
       "49066            NaN             Tajikistan  38.861000  71.276100  2020-07-27   \n",
       "49067            NaN                Lesotho -29.610000  28.233600  2020-07-27   \n",
       "\n",
       "       Confirmed  Deaths  Recovered  Active             WHO Region  \n",
       "49063        865      14        734     117                 Africa  \n",
       "49064       1691     483        833     375  Eastern Mediterranean  \n",
       "49065        354       7        328      19                 Africa  \n",
       "49066       7235      60       6028    1147                 Europe  \n",
       "49067        505      12        128     365                 Africa  "
      ]
     },
     "execution_count": 4,
     "metadata": {},
     "output_type": "execute_result"
    }
   ],
   "source": [
    "data.tail()"
   ]
  },
  {
   "cell_type": "code",
   "execution_count": 5,
   "id": "75fd6a27",
   "metadata": {},
   "outputs": [
    {
     "data": {
      "text/plain": [
       "(49068, 10)"
      ]
     },
     "execution_count": 5,
     "metadata": {},
     "output_type": "execute_result"
    }
   ],
   "source": [
    "data.shape"
   ]
  },
  {
   "cell_type": "code",
   "execution_count": 6,
   "id": "8849363a",
   "metadata": {},
   "outputs": [
    {
     "data": {
      "text/html": [
       "<div>\n",
       "<style scoped>\n",
       "    .dataframe tbody tr th:only-of-type {\n",
       "        vertical-align: middle;\n",
       "    }\n",
       "\n",
       "    .dataframe tbody tr th {\n",
       "        vertical-align: top;\n",
       "    }\n",
       "\n",
       "    .dataframe thead th {\n",
       "        text-align: right;\n",
       "    }\n",
       "</style>\n",
       "<table border=\"1\" class=\"dataframe\">\n",
       "  <thead>\n",
       "    <tr style=\"text-align: right;\">\n",
       "      <th></th>\n",
       "      <th>Lat</th>\n",
       "      <th>Long</th>\n",
       "      <th>Confirmed</th>\n",
       "      <th>Deaths</th>\n",
       "      <th>Recovered</th>\n",
       "      <th>Active</th>\n",
       "    </tr>\n",
       "  </thead>\n",
       "  <tbody>\n",
       "    <tr>\n",
       "      <th>count</th>\n",
       "      <td>49068.000000</td>\n",
       "      <td>49068.000000</td>\n",
       "      <td>4.906800e+04</td>\n",
       "      <td>49068.000000</td>\n",
       "      <td>4.906800e+04</td>\n",
       "      <td>4.906800e+04</td>\n",
       "    </tr>\n",
       "    <tr>\n",
       "      <th>mean</th>\n",
       "      <td>21.433730</td>\n",
       "      <td>23.528236</td>\n",
       "      <td>1.688490e+04</td>\n",
       "      <td>884.179160</td>\n",
       "      <td>7.915713e+03</td>\n",
       "      <td>8.085012e+03</td>\n",
       "    </tr>\n",
       "    <tr>\n",
       "      <th>std</th>\n",
       "      <td>24.950320</td>\n",
       "      <td>70.442740</td>\n",
       "      <td>1.273002e+05</td>\n",
       "      <td>6313.584411</td>\n",
       "      <td>5.480092e+04</td>\n",
       "      <td>7.625890e+04</td>\n",
       "    </tr>\n",
       "    <tr>\n",
       "      <th>min</th>\n",
       "      <td>-51.796300</td>\n",
       "      <td>-135.000000</td>\n",
       "      <td>0.000000e+00</td>\n",
       "      <td>0.000000</td>\n",
       "      <td>0.000000e+00</td>\n",
       "      <td>-1.400000e+01</td>\n",
       "    </tr>\n",
       "    <tr>\n",
       "      <th>25%</th>\n",
       "      <td>7.873054</td>\n",
       "      <td>-15.310100</td>\n",
       "      <td>4.000000e+00</td>\n",
       "      <td>0.000000</td>\n",
       "      <td>0.000000e+00</td>\n",
       "      <td>0.000000e+00</td>\n",
       "    </tr>\n",
       "    <tr>\n",
       "      <th>50%</th>\n",
       "      <td>23.634500</td>\n",
       "      <td>21.745300</td>\n",
       "      <td>1.680000e+02</td>\n",
       "      <td>2.000000</td>\n",
       "      <td>2.900000e+01</td>\n",
       "      <td>2.600000e+01</td>\n",
       "    </tr>\n",
       "    <tr>\n",
       "      <th>75%</th>\n",
       "      <td>41.204380</td>\n",
       "      <td>80.771797</td>\n",
       "      <td>1.518250e+03</td>\n",
       "      <td>30.000000</td>\n",
       "      <td>6.660000e+02</td>\n",
       "      <td>6.060000e+02</td>\n",
       "    </tr>\n",
       "    <tr>\n",
       "      <th>max</th>\n",
       "      <td>71.706900</td>\n",
       "      <td>178.065000</td>\n",
       "      <td>4.290259e+06</td>\n",
       "      <td>148011.000000</td>\n",
       "      <td>1.846641e+06</td>\n",
       "      <td>2.816444e+06</td>\n",
       "    </tr>\n",
       "  </tbody>\n",
       "</table>\n",
       "</div>"
      ],
      "text/plain": [
       "                Lat          Long     Confirmed         Deaths     Recovered  \\\n",
       "count  49068.000000  49068.000000  4.906800e+04   49068.000000  4.906800e+04   \n",
       "mean      21.433730     23.528236  1.688490e+04     884.179160  7.915713e+03   \n",
       "std       24.950320     70.442740  1.273002e+05    6313.584411  5.480092e+04   \n",
       "min      -51.796300   -135.000000  0.000000e+00       0.000000  0.000000e+00   \n",
       "25%        7.873054    -15.310100  4.000000e+00       0.000000  0.000000e+00   \n",
       "50%       23.634500     21.745300  1.680000e+02       2.000000  2.900000e+01   \n",
       "75%       41.204380     80.771797  1.518250e+03      30.000000  6.660000e+02   \n",
       "max       71.706900    178.065000  4.290259e+06  148011.000000  1.846641e+06   \n",
       "\n",
       "             Active  \n",
       "count  4.906800e+04  \n",
       "mean   8.085012e+03  \n",
       "std    7.625890e+04  \n",
       "min   -1.400000e+01  \n",
       "25%    0.000000e+00  \n",
       "50%    2.600000e+01  \n",
       "75%    6.060000e+02  \n",
       "max    2.816444e+06  "
      ]
     },
     "execution_count": 6,
     "metadata": {},
     "output_type": "execute_result"
    }
   ],
   "source": [
    "data.describe()"
   ]
  },
  {
   "cell_type": "code",
   "execution_count": 7,
   "id": "c2670d74",
   "metadata": {
    "scrolled": false
   },
   "outputs": [
    {
     "data": {
      "text/html": [
       "<div>\n",
       "<style scoped>\n",
       "    .dataframe tbody tr th:only-of-type {\n",
       "        vertical-align: middle;\n",
       "    }\n",
       "\n",
       "    .dataframe tbody tr th {\n",
       "        vertical-align: top;\n",
       "    }\n",
       "\n",
       "    .dataframe thead th {\n",
       "        text-align: right;\n",
       "    }\n",
       "</style>\n",
       "<table border=\"1\" class=\"dataframe\">\n",
       "  <thead>\n",
       "    <tr style=\"text-align: right;\">\n",
       "      <th></th>\n",
       "      <th>Province/State</th>\n",
       "      <th>Country/Region</th>\n",
       "      <th>Lat</th>\n",
       "      <th>Long</th>\n",
       "      <th>Date</th>\n",
       "      <th>Confirmed</th>\n",
       "      <th>Deaths</th>\n",
       "      <th>Recovered</th>\n",
       "      <th>Active</th>\n",
       "      <th>WHO Region</th>\n",
       "    </tr>\n",
       "  </thead>\n",
       "  <tbody>\n",
       "    <tr>\n",
       "      <th>count</th>\n",
       "      <td>14664</td>\n",
       "      <td>49068</td>\n",
       "      <td>49068.000000</td>\n",
       "      <td>49068.000000</td>\n",
       "      <td>49068</td>\n",
       "      <td>4.906800e+04</td>\n",
       "      <td>49068.000000</td>\n",
       "      <td>4.906800e+04</td>\n",
       "      <td>4.906800e+04</td>\n",
       "      <td>49068</td>\n",
       "    </tr>\n",
       "    <tr>\n",
       "      <th>unique</th>\n",
       "      <td>78</td>\n",
       "      <td>187</td>\n",
       "      <td>NaN</td>\n",
       "      <td>NaN</td>\n",
       "      <td>188</td>\n",
       "      <td>NaN</td>\n",
       "      <td>NaN</td>\n",
       "      <td>NaN</td>\n",
       "      <td>NaN</td>\n",
       "      <td>6</td>\n",
       "    </tr>\n",
       "    <tr>\n",
       "      <th>top</th>\n",
       "      <td>Australian Capital Territory</td>\n",
       "      <td>China</td>\n",
       "      <td>NaN</td>\n",
       "      <td>NaN</td>\n",
       "      <td>2020-01-22</td>\n",
       "      <td>NaN</td>\n",
       "      <td>NaN</td>\n",
       "      <td>NaN</td>\n",
       "      <td>NaN</td>\n",
       "      <td>Europe</td>\n",
       "    </tr>\n",
       "    <tr>\n",
       "      <th>freq</th>\n",
       "      <td>188</td>\n",
       "      <td>6204</td>\n",
       "      <td>NaN</td>\n",
       "      <td>NaN</td>\n",
       "      <td>261</td>\n",
       "      <td>NaN</td>\n",
       "      <td>NaN</td>\n",
       "      <td>NaN</td>\n",
       "      <td>NaN</td>\n",
       "      <td>15040</td>\n",
       "    </tr>\n",
       "    <tr>\n",
       "      <th>mean</th>\n",
       "      <td>NaN</td>\n",
       "      <td>NaN</td>\n",
       "      <td>21.433730</td>\n",
       "      <td>23.528236</td>\n",
       "      <td>NaN</td>\n",
       "      <td>1.688490e+04</td>\n",
       "      <td>884.179160</td>\n",
       "      <td>7.915713e+03</td>\n",
       "      <td>8.085012e+03</td>\n",
       "      <td>NaN</td>\n",
       "    </tr>\n",
       "    <tr>\n",
       "      <th>std</th>\n",
       "      <td>NaN</td>\n",
       "      <td>NaN</td>\n",
       "      <td>24.950320</td>\n",
       "      <td>70.442740</td>\n",
       "      <td>NaN</td>\n",
       "      <td>1.273002e+05</td>\n",
       "      <td>6313.584411</td>\n",
       "      <td>5.480092e+04</td>\n",
       "      <td>7.625890e+04</td>\n",
       "      <td>NaN</td>\n",
       "    </tr>\n",
       "    <tr>\n",
       "      <th>min</th>\n",
       "      <td>NaN</td>\n",
       "      <td>NaN</td>\n",
       "      <td>-51.796300</td>\n",
       "      <td>-135.000000</td>\n",
       "      <td>NaN</td>\n",
       "      <td>0.000000e+00</td>\n",
       "      <td>0.000000</td>\n",
       "      <td>0.000000e+00</td>\n",
       "      <td>-1.400000e+01</td>\n",
       "      <td>NaN</td>\n",
       "    </tr>\n",
       "    <tr>\n",
       "      <th>25%</th>\n",
       "      <td>NaN</td>\n",
       "      <td>NaN</td>\n",
       "      <td>7.873054</td>\n",
       "      <td>-15.310100</td>\n",
       "      <td>NaN</td>\n",
       "      <td>4.000000e+00</td>\n",
       "      <td>0.000000</td>\n",
       "      <td>0.000000e+00</td>\n",
       "      <td>0.000000e+00</td>\n",
       "      <td>NaN</td>\n",
       "    </tr>\n",
       "    <tr>\n",
       "      <th>50%</th>\n",
       "      <td>NaN</td>\n",
       "      <td>NaN</td>\n",
       "      <td>23.634500</td>\n",
       "      <td>21.745300</td>\n",
       "      <td>NaN</td>\n",
       "      <td>1.680000e+02</td>\n",
       "      <td>2.000000</td>\n",
       "      <td>2.900000e+01</td>\n",
       "      <td>2.600000e+01</td>\n",
       "      <td>NaN</td>\n",
       "    </tr>\n",
       "    <tr>\n",
       "      <th>75%</th>\n",
       "      <td>NaN</td>\n",
       "      <td>NaN</td>\n",
       "      <td>41.204380</td>\n",
       "      <td>80.771797</td>\n",
       "      <td>NaN</td>\n",
       "      <td>1.518250e+03</td>\n",
       "      <td>30.000000</td>\n",
       "      <td>6.660000e+02</td>\n",
       "      <td>6.060000e+02</td>\n",
       "      <td>NaN</td>\n",
       "    </tr>\n",
       "    <tr>\n",
       "      <th>max</th>\n",
       "      <td>NaN</td>\n",
       "      <td>NaN</td>\n",
       "      <td>71.706900</td>\n",
       "      <td>178.065000</td>\n",
       "      <td>NaN</td>\n",
       "      <td>4.290259e+06</td>\n",
       "      <td>148011.000000</td>\n",
       "      <td>1.846641e+06</td>\n",
       "      <td>2.816444e+06</td>\n",
       "      <td>NaN</td>\n",
       "    </tr>\n",
       "  </tbody>\n",
       "</table>\n",
       "</div>"
      ],
      "text/plain": [
       "                      Province/State Country/Region           Lat  \\\n",
       "count                          14664          49068  49068.000000   \n",
       "unique                            78            187           NaN   \n",
       "top     Australian Capital Territory          China           NaN   \n",
       "freq                             188           6204           NaN   \n",
       "mean                             NaN            NaN     21.433730   \n",
       "std                              NaN            NaN     24.950320   \n",
       "min                              NaN            NaN    -51.796300   \n",
       "25%                              NaN            NaN      7.873054   \n",
       "50%                              NaN            NaN     23.634500   \n",
       "75%                              NaN            NaN     41.204380   \n",
       "max                              NaN            NaN     71.706900   \n",
       "\n",
       "                Long        Date     Confirmed         Deaths     Recovered  \\\n",
       "count   49068.000000       49068  4.906800e+04   49068.000000  4.906800e+04   \n",
       "unique           NaN         188           NaN            NaN           NaN   \n",
       "top              NaN  2020-01-22           NaN            NaN           NaN   \n",
       "freq             NaN         261           NaN            NaN           NaN   \n",
       "mean       23.528236         NaN  1.688490e+04     884.179160  7.915713e+03   \n",
       "std        70.442740         NaN  1.273002e+05    6313.584411  5.480092e+04   \n",
       "min      -135.000000         NaN  0.000000e+00       0.000000  0.000000e+00   \n",
       "25%       -15.310100         NaN  4.000000e+00       0.000000  0.000000e+00   \n",
       "50%        21.745300         NaN  1.680000e+02       2.000000  2.900000e+01   \n",
       "75%        80.771797         NaN  1.518250e+03      30.000000  6.660000e+02   \n",
       "max       178.065000         NaN  4.290259e+06  148011.000000  1.846641e+06   \n",
       "\n",
       "              Active WHO Region  \n",
       "count   4.906800e+04      49068  \n",
       "unique           NaN          6  \n",
       "top              NaN     Europe  \n",
       "freq             NaN      15040  \n",
       "mean    8.085012e+03        NaN  \n",
       "std     7.625890e+04        NaN  \n",
       "min    -1.400000e+01        NaN  \n",
       "25%     0.000000e+00        NaN  \n",
       "50%     2.600000e+01        NaN  \n",
       "75%     6.060000e+02        NaN  \n",
       "max     2.816444e+06        NaN  "
      ]
     },
     "execution_count": 7,
     "metadata": {},
     "output_type": "execute_result"
    }
   ],
   "source": [
    "data.describe(include = \"all\")"
   ]
  },
  {
   "cell_type": "code",
   "execution_count": 8,
   "id": "a4673322",
   "metadata": {},
   "outputs": [
    {
     "data": {
      "text/plain": [
       "Province/State    34404\n",
       "Country/Region        0\n",
       "Lat                   0\n",
       "Long                  0\n",
       "Date                  0\n",
       "Confirmed             0\n",
       "Deaths                0\n",
       "Recovered             0\n",
       "Active                0\n",
       "WHO Region            0\n",
       "dtype: int64"
      ]
     },
     "execution_count": 8,
     "metadata": {},
     "output_type": "execute_result"
    }
   ],
   "source": [
    "data.isnull().sum()"
   ]
  },
  {
   "cell_type": "code",
   "execution_count": 9,
   "id": "3cc75293",
   "metadata": {},
   "outputs": [
    {
     "data": {
      "text/plain": [
       "Province/State    70.114943\n",
       "Country/Region     0.000000\n",
       "Lat                0.000000\n",
       "Long               0.000000\n",
       "Date               0.000000\n",
       "Confirmed          0.000000\n",
       "Deaths             0.000000\n",
       "Recovered          0.000000\n",
       "Active             0.000000\n",
       "WHO Region         0.000000\n",
       "dtype: float64"
      ]
     },
     "execution_count": 9,
     "metadata": {},
     "output_type": "execute_result"
    }
   ],
   "source": [
    "data.isnull().mean() * 100"
   ]
  },
  {
   "cell_type": "code",
   "execution_count": 10,
   "id": "3ee22026",
   "metadata": {},
   "outputs": [
    {
     "data": {
      "text/plain": [
       "array([nan, 'Australian Capital Territory', 'New South Wales',\n",
       "       'Northern Territory', 'Queensland', 'South Australia', 'Tasmania',\n",
       "       'Victoria', 'Western Australia', 'Alberta', 'British Columbia',\n",
       "       'Manitoba', 'New Brunswick', 'Newfoundland and Labrador',\n",
       "       'Nova Scotia', 'Ontario', 'Prince Edward Island', 'Quebec',\n",
       "       'Saskatchewan', 'Anhui', 'Beijing', 'Chongqing', 'Fujian', 'Gansu',\n",
       "       'Guangdong', 'Guangxi', 'Guizhou', 'Hainan', 'Hebei',\n",
       "       'Heilongjiang', 'Henan', 'Hong Kong', 'Hubei', 'Hunan',\n",
       "       'Inner Mongolia', 'Jiangsu', 'Jiangxi', 'Jilin', 'Liaoning',\n",
       "       'Macau', 'Ningxia', 'Qinghai', 'Shaanxi', 'Shandong', 'Shanghai',\n",
       "       'Shanxi', 'Sichuan', 'Tianjin', 'Tibet', 'Xinjiang', 'Yunnan',\n",
       "       'Zhejiang', 'Faroe Islands', 'Greenland', 'French Guiana',\n",
       "       'French Polynesia', 'Guadeloupe', 'Mayotte', 'New Caledonia',\n",
       "       'Reunion', 'Saint Barthelemy', 'St Martin', 'Martinique', 'Aruba',\n",
       "       'Curacao', 'Sint Maarten', 'Bermuda', 'Cayman Islands',\n",
       "       'Channel Islands', 'Gibraltar', 'Isle of Man', 'Montserrat',\n",
       "       'Northwest Territories', 'Yukon', 'Anguilla',\n",
       "       'British Virgin Islands', 'Turks and Caicos Islands',\n",
       "       'Falkland Islands (Malvinas)', 'Saint Pierre and Miquelon'],\n",
       "      dtype=object)"
      ]
     },
     "execution_count": 10,
     "metadata": {},
     "output_type": "execute_result"
    }
   ],
   "source": [
    "data[\"Province/State\"].unique()"
   ]
  },
  {
   "cell_type": "markdown",
   "id": "782cabce",
   "metadata": {},
   "source": [
    "#### since the % of null values exceed 20% in the column \"Province/State\", so we can remove it"
   ]
  },
  {
   "cell_type": "code",
   "execution_count": 11,
   "id": "e1695fa2",
   "metadata": {},
   "outputs": [],
   "source": [
    "data.drop(columns = \"Province/State\", inplace = True)"
   ]
  },
  {
   "cell_type": "code",
   "execution_count": 12,
   "id": "3a06304d",
   "metadata": {},
   "outputs": [
    {
     "data": {
      "text/html": [
       "<div>\n",
       "<style scoped>\n",
       "    .dataframe tbody tr th:only-of-type {\n",
       "        vertical-align: middle;\n",
       "    }\n",
       "\n",
       "    .dataframe tbody tr th {\n",
       "        vertical-align: top;\n",
       "    }\n",
       "\n",
       "    .dataframe thead th {\n",
       "        text-align: right;\n",
       "    }\n",
       "</style>\n",
       "<table border=\"1\" class=\"dataframe\">\n",
       "  <thead>\n",
       "    <tr style=\"text-align: right;\">\n",
       "      <th></th>\n",
       "      <th>Country/Region</th>\n",
       "      <th>Lat</th>\n",
       "      <th>Long</th>\n",
       "      <th>Date</th>\n",
       "      <th>Confirmed</th>\n",
       "      <th>Deaths</th>\n",
       "      <th>Recovered</th>\n",
       "      <th>Active</th>\n",
       "      <th>WHO Region</th>\n",
       "    </tr>\n",
       "  </thead>\n",
       "  <tbody>\n",
       "    <tr>\n",
       "      <th>46746</th>\n",
       "      <td>Bosnia and Herzegovina</td>\n",
       "      <td>43.915900</td>\n",
       "      <td>17.679100</td>\n",
       "      <td>2020-07-19</td>\n",
       "      <td>8340</td>\n",
       "      <td>249</td>\n",
       "      <td>3669</td>\n",
       "      <td>4422</td>\n",
       "      <td>Europe</td>\n",
       "    </tr>\n",
       "    <tr>\n",
       "      <th>31562</th>\n",
       "      <td>Canada</td>\n",
       "      <td>64.282300</td>\n",
       "      <td>-135.000000</td>\n",
       "      <td>2020-05-21</td>\n",
       "      <td>11</td>\n",
       "      <td>0</td>\n",
       "      <td>0</td>\n",
       "      <td>11</td>\n",
       "      <td>Americas</td>\n",
       "    </tr>\n",
       "    <tr>\n",
       "      <th>941</th>\n",
       "      <td>Monaco</td>\n",
       "      <td>43.733300</td>\n",
       "      <td>7.416700</td>\n",
       "      <td>2020-01-25</td>\n",
       "      <td>0</td>\n",
       "      <td>0</td>\n",
       "      <td>0</td>\n",
       "      <td>0</td>\n",
       "      <td>Europe</td>\n",
       "    </tr>\n",
       "    <tr>\n",
       "      <th>27290</th>\n",
       "      <td>Liberia</td>\n",
       "      <td>6.428055</td>\n",
       "      <td>-9.429499</td>\n",
       "      <td>2020-05-05</td>\n",
       "      <td>170</td>\n",
       "      <td>20</td>\n",
       "      <td>58</td>\n",
       "      <td>92</td>\n",
       "      <td>Africa</td>\n",
       "    </tr>\n",
       "    <tr>\n",
       "      <th>14646</th>\n",
       "      <td>Bulgaria</td>\n",
       "      <td>42.733900</td>\n",
       "      <td>25.485800</td>\n",
       "      <td>2020-03-18</td>\n",
       "      <td>92</td>\n",
       "      <td>2</td>\n",
       "      <td>0</td>\n",
       "      <td>90</td>\n",
       "      <td>Europe</td>\n",
       "    </tr>\n",
       "  </tbody>\n",
       "</table>\n",
       "</div>"
      ],
      "text/plain": [
       "               Country/Region        Lat        Long        Date  Confirmed  \\\n",
       "46746  Bosnia and Herzegovina  43.915900   17.679100  2020-07-19       8340   \n",
       "31562                  Canada  64.282300 -135.000000  2020-05-21         11   \n",
       "941                    Monaco  43.733300    7.416700  2020-01-25          0   \n",
       "27290                 Liberia   6.428055   -9.429499  2020-05-05        170   \n",
       "14646                Bulgaria  42.733900   25.485800  2020-03-18         92   \n",
       "\n",
       "       Deaths  Recovered  Active WHO Region  \n",
       "46746     249       3669    4422     Europe  \n",
       "31562       0          0      11   Americas  \n",
       "941         0          0       0     Europe  \n",
       "27290      20         58      92     Africa  \n",
       "14646       2          0      90     Europe  "
      ]
     },
     "execution_count": 12,
     "metadata": {},
     "output_type": "execute_result"
    }
   ],
   "source": [
    "data.sample(5)"
   ]
  },
  {
   "cell_type": "code",
   "execution_count": 13,
   "id": "96cb078b",
   "metadata": {},
   "outputs": [
    {
     "name": "stdout",
     "output_type": "stream",
     "text": [
      "<class 'pandas.core.frame.DataFrame'>\n",
      "RangeIndex: 49068 entries, 0 to 49067\n",
      "Data columns (total 9 columns):\n",
      " #   Column          Non-Null Count  Dtype  \n",
      "---  ------          --------------  -----  \n",
      " 0   Country/Region  49068 non-null  object \n",
      " 1   Lat             49068 non-null  float64\n",
      " 2   Long            49068 non-null  float64\n",
      " 3   Date            49068 non-null  object \n",
      " 4   Confirmed       49068 non-null  int64  \n",
      " 5   Deaths          49068 non-null  int64  \n",
      " 6   Recovered       49068 non-null  int64  \n",
      " 7   Active          49068 non-null  int64  \n",
      " 8   WHO Region      49068 non-null  object \n",
      "dtypes: float64(2), int64(4), object(3)\n",
      "memory usage: 3.4+ MB\n"
     ]
    }
   ],
   "source": [
    "data.info()"
   ]
  },
  {
   "cell_type": "markdown",
   "id": "f0780832",
   "metadata": {},
   "source": [
    "#### change the column name \"WHO Region\" to \"WHO_Region\""
   ]
  },
  {
   "cell_type": "code",
   "execution_count": 14,
   "id": "a913720c",
   "metadata": {},
   "outputs": [],
   "source": [
    "data = data.rename(columns = {\n",
    "    \n",
    "    \"Country/Region\" : \"Country\",\n",
    "    \"WHO Region\" : \"WHO_Region\"\n",
    "    \n",
    "})"
   ]
  },
  {
   "cell_type": "code",
   "execution_count": 15,
   "id": "bbbb71c9",
   "metadata": {},
   "outputs": [
    {
     "data": {
      "text/html": [
       "<div>\n",
       "<style scoped>\n",
       "    .dataframe tbody tr th:only-of-type {\n",
       "        vertical-align: middle;\n",
       "    }\n",
       "\n",
       "    .dataframe tbody tr th {\n",
       "        vertical-align: top;\n",
       "    }\n",
       "\n",
       "    .dataframe thead th {\n",
       "        text-align: right;\n",
       "    }\n",
       "</style>\n",
       "<table border=\"1\" class=\"dataframe\">\n",
       "  <thead>\n",
       "    <tr style=\"text-align: right;\">\n",
       "      <th></th>\n",
       "      <th>Country</th>\n",
       "      <th>Lat</th>\n",
       "      <th>Long</th>\n",
       "      <th>Date</th>\n",
       "      <th>Confirmed</th>\n",
       "      <th>Deaths</th>\n",
       "      <th>Recovered</th>\n",
       "      <th>Active</th>\n",
       "      <th>WHO_Region</th>\n",
       "    </tr>\n",
       "  </thead>\n",
       "  <tbody>\n",
       "    <tr>\n",
       "      <th>35865</th>\n",
       "      <td>France</td>\n",
       "      <td>-12.827500</td>\n",
       "      <td>45.166244</td>\n",
       "      <td>2020-06-07</td>\n",
       "      <td>2079</td>\n",
       "      <td>25</td>\n",
       "      <td>1523</td>\n",
       "      <td>531</td>\n",
       "      <td>Europe</td>\n",
       "    </tr>\n",
       "    <tr>\n",
       "      <th>34232</th>\n",
       "      <td>Canada</td>\n",
       "      <td>51.253800</td>\n",
       "      <td>-85.323200</td>\n",
       "      <td>2020-06-01</td>\n",
       "      <td>29845</td>\n",
       "      <td>2353</td>\n",
       "      <td>0</td>\n",
       "      <td>27492</td>\n",
       "      <td>Americas</td>\n",
       "    </tr>\n",
       "    <tr>\n",
       "      <th>19201</th>\n",
       "      <td>Lithuania</td>\n",
       "      <td>55.169400</td>\n",
       "      <td>23.881300</td>\n",
       "      <td>2020-04-04</td>\n",
       "      <td>771</td>\n",
       "      <td>11</td>\n",
       "      <td>7</td>\n",
       "      <td>753</td>\n",
       "      <td>Europe</td>\n",
       "    </tr>\n",
       "    <tr>\n",
       "      <th>18650</th>\n",
       "      <td>Ghana</td>\n",
       "      <td>7.946500</td>\n",
       "      <td>-1.023200</td>\n",
       "      <td>2020-04-02</td>\n",
       "      <td>204</td>\n",
       "      <td>5</td>\n",
       "      <td>31</td>\n",
       "      <td>168</td>\n",
       "      <td>Africa</td>\n",
       "    </tr>\n",
       "    <tr>\n",
       "      <th>46175</th>\n",
       "      <td>Mali</td>\n",
       "      <td>17.570692</td>\n",
       "      <td>-3.996166</td>\n",
       "      <td>2020-07-16</td>\n",
       "      <td>2440</td>\n",
       "      <td>121</td>\n",
       "      <td>1777</td>\n",
       "      <td>542</td>\n",
       "      <td>Africa</td>\n",
       "    </tr>\n",
       "  </tbody>\n",
       "</table>\n",
       "</div>"
      ],
      "text/plain": [
       "         Country        Lat       Long        Date  Confirmed  Deaths  \\\n",
       "35865     France -12.827500  45.166244  2020-06-07       2079      25   \n",
       "34232     Canada  51.253800 -85.323200  2020-06-01      29845    2353   \n",
       "19201  Lithuania  55.169400  23.881300  2020-04-04        771      11   \n",
       "18650      Ghana   7.946500  -1.023200  2020-04-02        204       5   \n",
       "46175       Mali  17.570692  -3.996166  2020-07-16       2440     121   \n",
       "\n",
       "       Recovered  Active WHO_Region  \n",
       "35865       1523     531     Europe  \n",
       "34232          0   27492   Americas  \n",
       "19201          7     753     Europe  \n",
       "18650         31     168     Africa  \n",
       "46175       1777     542     Africa  "
      ]
     },
     "execution_count": 15,
     "metadata": {},
     "output_type": "execute_result"
    }
   ],
   "source": [
    "data.sample(5)"
   ]
  },
  {
   "cell_type": "markdown",
   "id": "85dd8a17",
   "metadata": {},
   "source": [
    "#### change dtype of column \"Date\" from object to datetime"
   ]
  },
  {
   "cell_type": "code",
   "execution_count": 16,
   "id": "d63972e7",
   "metadata": {},
   "outputs": [],
   "source": [
    "data[\"Date\"] = pd.to_datetime(data.Date)"
   ]
  },
  {
   "cell_type": "code",
   "execution_count": 17,
   "id": "892431b4",
   "metadata": {},
   "outputs": [
    {
     "name": "stdout",
     "output_type": "stream",
     "text": [
      "<class 'pandas.core.series.Series'>\n",
      "RangeIndex: 49068 entries, 0 to 49067\n",
      "Series name: Date\n",
      "Non-Null Count  Dtype         \n",
      "--------------  -----         \n",
      "49068 non-null  datetime64[ns]\n",
      "dtypes: datetime64[ns](1)\n",
      "memory usage: 383.5 KB\n"
     ]
    }
   ],
   "source": [
    "data.Date.info()"
   ]
  },
  {
   "cell_type": "markdown",
   "id": "ce2c8776",
   "metadata": {},
   "source": [
    "#### seperate year, month & day from column \"Date\""
   ]
  },
  {
   "cell_type": "code",
   "execution_count": 18,
   "id": "8fb1dbc3",
   "metadata": {},
   "outputs": [],
   "source": [
    "data[\"Year\"] = pd.DatetimeIndex(data[\"Date\"]).year\n",
    "data[\"Month\"] = pd.DatetimeIndex(data[\"Date\"]).month\n",
    "data[\"Day\"] = pd.DatetimeIndex(data[\"Date\"]).day"
   ]
  },
  {
   "cell_type": "code",
   "execution_count": 19,
   "id": "7d16df8f",
   "metadata": {
    "scrolled": false
   },
   "outputs": [
    {
     "data": {
      "text/html": [
       "<div>\n",
       "<style scoped>\n",
       "    .dataframe tbody tr th:only-of-type {\n",
       "        vertical-align: middle;\n",
       "    }\n",
       "\n",
       "    .dataframe tbody tr th {\n",
       "        vertical-align: top;\n",
       "    }\n",
       "\n",
       "    .dataframe thead th {\n",
       "        text-align: right;\n",
       "    }\n",
       "</style>\n",
       "<table border=\"1\" class=\"dataframe\">\n",
       "  <thead>\n",
       "    <tr style=\"text-align: right;\">\n",
       "      <th></th>\n",
       "      <th>Country</th>\n",
       "      <th>Lat</th>\n",
       "      <th>Long</th>\n",
       "      <th>Date</th>\n",
       "      <th>Confirmed</th>\n",
       "      <th>Deaths</th>\n",
       "      <th>Recovered</th>\n",
       "      <th>Active</th>\n",
       "      <th>WHO_Region</th>\n",
       "      <th>Year</th>\n",
       "      <th>Month</th>\n",
       "      <th>Day</th>\n",
       "    </tr>\n",
       "  </thead>\n",
       "  <tbody>\n",
       "    <tr>\n",
       "      <th>14821</th>\n",
       "      <td>Taiwan*</td>\n",
       "      <td>23.7000</td>\n",
       "      <td>121.0000</td>\n",
       "      <td>2020-03-18</td>\n",
       "      <td>100</td>\n",
       "      <td>1</td>\n",
       "      <td>22</td>\n",
       "      <td>77</td>\n",
       "      <td>Western Pacific</td>\n",
       "      <td>2020</td>\n",
       "      <td>3</td>\n",
       "      <td>18</td>\n",
       "    </tr>\n",
       "    <tr>\n",
       "      <th>30732</th>\n",
       "      <td>Slovakia</td>\n",
       "      <td>48.6690</td>\n",
       "      <td>19.6990</td>\n",
       "      <td>2020-05-18</td>\n",
       "      <td>1495</td>\n",
       "      <td>28</td>\n",
       "      <td>1185</td>\n",
       "      <td>282</td>\n",
       "      <td>Europe</td>\n",
       "      <td>2020</td>\n",
       "      <td>5</td>\n",
       "      <td>18</td>\n",
       "    </tr>\n",
       "    <tr>\n",
       "      <th>4516</th>\n",
       "      <td>China</td>\n",
       "      <td>24.9740</td>\n",
       "      <td>101.4870</td>\n",
       "      <td>2020-02-08</td>\n",
       "      <td>138</td>\n",
       "      <td>0</td>\n",
       "      <td>17</td>\n",
       "      <td>121</td>\n",
       "      <td>Western Pacific</td>\n",
       "      <td>2020</td>\n",
       "      <td>2</td>\n",
       "      <td>8</td>\n",
       "    </tr>\n",
       "    <tr>\n",
       "      <th>23914</th>\n",
       "      <td>Nepal</td>\n",
       "      <td>28.1667</td>\n",
       "      <td>84.2500</td>\n",
       "      <td>2020-04-22</td>\n",
       "      <td>45</td>\n",
       "      <td>0</td>\n",
       "      <td>7</td>\n",
       "      <td>38</td>\n",
       "      <td>South-East Asia</td>\n",
       "      <td>2020</td>\n",
       "      <td>4</td>\n",
       "      <td>22</td>\n",
       "    </tr>\n",
       "    <tr>\n",
       "      <th>48700</th>\n",
       "      <td>Mauritania</td>\n",
       "      <td>21.0079</td>\n",
       "      <td>-10.9408</td>\n",
       "      <td>2020-07-26</td>\n",
       "      <td>6171</td>\n",
       "      <td>156</td>\n",
       "      <td>4430</td>\n",
       "      <td>1585</td>\n",
       "      <td>Africa</td>\n",
       "      <td>2020</td>\n",
       "      <td>7</td>\n",
       "      <td>26</td>\n",
       "    </tr>\n",
       "  </tbody>\n",
       "</table>\n",
       "</div>"
      ],
      "text/plain": [
       "          Country      Lat      Long       Date  Confirmed  Deaths  Recovered  \\\n",
       "14821     Taiwan*  23.7000  121.0000 2020-03-18        100       1         22   \n",
       "30732    Slovakia  48.6690   19.6990 2020-05-18       1495      28       1185   \n",
       "4516        China  24.9740  101.4870 2020-02-08        138       0         17   \n",
       "23914       Nepal  28.1667   84.2500 2020-04-22         45       0          7   \n",
       "48700  Mauritania  21.0079  -10.9408 2020-07-26       6171     156       4430   \n",
       "\n",
       "       Active       WHO_Region  Year  Month  Day  \n",
       "14821      77  Western Pacific  2020      3   18  \n",
       "30732     282           Europe  2020      5   18  \n",
       "4516      121  Western Pacific  2020      2    8  \n",
       "23914      38  South-East Asia  2020      4   22  \n",
       "48700    1585           Africa  2020      7   26  "
      ]
     },
     "execution_count": 19,
     "metadata": {},
     "output_type": "execute_result"
    }
   ],
   "source": [
    "data.sample(5)"
   ]
  },
  {
   "cell_type": "code",
   "execution_count": 20,
   "id": "44af4fb1",
   "metadata": {},
   "outputs": [
    {
     "data": {
      "text/plain": [
       "array([1, 2, 3, 4, 5, 6, 7], dtype=int64)"
      ]
     },
     "execution_count": 20,
     "metadata": {},
     "output_type": "execute_result"
    }
   ],
   "source": [
    "data.Month.unique()"
   ]
  },
  {
   "cell_type": "code",
   "execution_count": 21,
   "id": "8a757ca9",
   "metadata": {},
   "outputs": [],
   "source": [
    "data[\"Month\"].replace({\n",
    "    1 : \"January\",\n",
    "    2 : \"February\",\n",
    "    3 : \"March\",\n",
    "    4 : \"April\",\n",
    "    5 : \"May\",\n",
    "    6 : \"June\",\n",
    "    7 : \"July\"\n",
    "}, inplace = True)"
   ]
  },
  {
   "cell_type": "code",
   "execution_count": 22,
   "id": "24e525b4",
   "metadata": {},
   "outputs": [
    {
     "data": {
      "text/html": [
       "<div>\n",
       "<style scoped>\n",
       "    .dataframe tbody tr th:only-of-type {\n",
       "        vertical-align: middle;\n",
       "    }\n",
       "\n",
       "    .dataframe tbody tr th {\n",
       "        vertical-align: top;\n",
       "    }\n",
       "\n",
       "    .dataframe thead th {\n",
       "        text-align: right;\n",
       "    }\n",
       "</style>\n",
       "<table border=\"1\" class=\"dataframe\">\n",
       "  <thead>\n",
       "    <tr style=\"text-align: right;\">\n",
       "      <th></th>\n",
       "      <th>Country</th>\n",
       "      <th>Lat</th>\n",
       "      <th>Long</th>\n",
       "      <th>Date</th>\n",
       "      <th>Confirmed</th>\n",
       "      <th>Deaths</th>\n",
       "      <th>Recovered</th>\n",
       "      <th>Active</th>\n",
       "      <th>WHO_Region</th>\n",
       "      <th>Year</th>\n",
       "      <th>Month</th>\n",
       "      <th>Day</th>\n",
       "    </tr>\n",
       "  </thead>\n",
       "  <tbody>\n",
       "    <tr>\n",
       "      <th>29117</th>\n",
       "      <td>Liberia</td>\n",
       "      <td>6.428055</td>\n",
       "      <td>-9.429499</td>\n",
       "      <td>2020-05-12</td>\n",
       "      <td>211</td>\n",
       "      <td>20</td>\n",
       "      <td>85</td>\n",
       "      <td>106</td>\n",
       "      <td>Africa</td>\n",
       "      <td>2020</td>\n",
       "      <td>May</td>\n",
       "      <td>12</td>\n",
       "    </tr>\n",
       "    <tr>\n",
       "      <th>17212</th>\n",
       "      <td>United Kingdom</td>\n",
       "      <td>21.694000</td>\n",
       "      <td>-71.797900</td>\n",
       "      <td>2020-03-27</td>\n",
       "      <td>0</td>\n",
       "      <td>0</td>\n",
       "      <td>0</td>\n",
       "      <td>0</td>\n",
       "      <td>Europe</td>\n",
       "      <td>2020</td>\n",
       "      <td>March</td>\n",
       "      <td>27</td>\n",
       "    </tr>\n",
       "    <tr>\n",
       "      <th>18368</th>\n",
       "      <td>Equatorial Guinea</td>\n",
       "      <td>1.650800</td>\n",
       "      <td>10.267900</td>\n",
       "      <td>2020-04-01</td>\n",
       "      <td>15</td>\n",
       "      <td>0</td>\n",
       "      <td>1</td>\n",
       "      <td>14</td>\n",
       "      <td>Africa</td>\n",
       "      <td>2020</td>\n",
       "      <td>April</td>\n",
       "      <td>1</td>\n",
       "    </tr>\n",
       "    <tr>\n",
       "      <th>1014</th>\n",
       "      <td>Mozambique</td>\n",
       "      <td>-18.665695</td>\n",
       "      <td>35.529562</td>\n",
       "      <td>2020-01-25</td>\n",
       "      <td>0</td>\n",
       "      <td>0</td>\n",
       "      <td>0</td>\n",
       "      <td>0</td>\n",
       "      <td>Africa</td>\n",
       "      <td>2020</td>\n",
       "      <td>January</td>\n",
       "      <td>25</td>\n",
       "    </tr>\n",
       "    <tr>\n",
       "      <th>8081</th>\n",
       "      <td>Malawi</td>\n",
       "      <td>-13.254300</td>\n",
       "      <td>34.301500</td>\n",
       "      <td>2020-02-21</td>\n",
       "      <td>0</td>\n",
       "      <td>0</td>\n",
       "      <td>0</td>\n",
       "      <td>0</td>\n",
       "      <td>Africa</td>\n",
       "      <td>2020</td>\n",
       "      <td>February</td>\n",
       "      <td>21</td>\n",
       "    </tr>\n",
       "  </tbody>\n",
       "</table>\n",
       "</div>"
      ],
      "text/plain": [
       "                 Country        Lat       Long       Date  Confirmed  Deaths  \\\n",
       "29117            Liberia   6.428055  -9.429499 2020-05-12        211      20   \n",
       "17212     United Kingdom  21.694000 -71.797900 2020-03-27          0       0   \n",
       "18368  Equatorial Guinea   1.650800  10.267900 2020-04-01         15       0   \n",
       "1014          Mozambique -18.665695  35.529562 2020-01-25          0       0   \n",
       "8081              Malawi -13.254300  34.301500 2020-02-21          0       0   \n",
       "\n",
       "       Recovered  Active WHO_Region  Year     Month  Day  \n",
       "29117         85     106     Africa  2020       May   12  \n",
       "17212          0       0     Europe  2020     March   27  \n",
       "18368          1      14     Africa  2020     April    1  \n",
       "1014           0       0     Africa  2020   January   25  \n",
       "8081           0       0     Africa  2020  February   21  "
      ]
     },
     "execution_count": 22,
     "metadata": {},
     "output_type": "execute_result"
    }
   ],
   "source": [
    "data.sample(5)"
   ]
  },
  {
   "cell_type": "markdown",
   "id": "fd51a753",
   "metadata": {},
   "source": [
    "#### we may drop the columns \"Date\", \"Lat\", \"Long\""
   ]
  },
  {
   "cell_type": "code",
   "execution_count": 23,
   "id": "205d65fd",
   "metadata": {},
   "outputs": [],
   "source": [
    "data.drop(columns = [\"Lat\", \"Long\", \"Date\"], inplace = True)"
   ]
  },
  {
   "cell_type": "code",
   "execution_count": 24,
   "id": "83aa38dd",
   "metadata": {
    "scrolled": true
   },
   "outputs": [
    {
     "data": {
      "text/html": [
       "<div>\n",
       "<style scoped>\n",
       "    .dataframe tbody tr th:only-of-type {\n",
       "        vertical-align: middle;\n",
       "    }\n",
       "\n",
       "    .dataframe tbody tr th {\n",
       "        vertical-align: top;\n",
       "    }\n",
       "\n",
       "    .dataframe thead th {\n",
       "        text-align: right;\n",
       "    }\n",
       "</style>\n",
       "<table border=\"1\" class=\"dataframe\">\n",
       "  <thead>\n",
       "    <tr style=\"text-align: right;\">\n",
       "      <th></th>\n",
       "      <th>Country</th>\n",
       "      <th>Confirmed</th>\n",
       "      <th>Deaths</th>\n",
       "      <th>Recovered</th>\n",
       "      <th>Active</th>\n",
       "      <th>WHO_Region</th>\n",
       "      <th>Year</th>\n",
       "      <th>Month</th>\n",
       "      <th>Day</th>\n",
       "    </tr>\n",
       "  </thead>\n",
       "  <tbody>\n",
       "    <tr>\n",
       "      <th>41808</th>\n",
       "      <td>China</td>\n",
       "      <td>991</td>\n",
       "      <td>6</td>\n",
       "      <td>985</td>\n",
       "      <td>0</td>\n",
       "      <td>Western Pacific</td>\n",
       "      <td>2020</td>\n",
       "      <td>June</td>\n",
       "      <td>30</td>\n",
       "    </tr>\n",
       "    <tr>\n",
       "      <th>46316</th>\n",
       "      <td>Ghana</td>\n",
       "      <td>26572</td>\n",
       "      <td>144</td>\n",
       "      <td>22915</td>\n",
       "      <td>3513</td>\n",
       "      <td>Africa</td>\n",
       "      <td>2020</td>\n",
       "      <td>July</td>\n",
       "      <td>17</td>\n",
       "    </tr>\n",
       "    <tr>\n",
       "      <th>29045</th>\n",
       "      <td>China</td>\n",
       "      <td>198</td>\n",
       "      <td>0</td>\n",
       "      <td>198</td>\n",
       "      <td>0</td>\n",
       "      <td>Western Pacific</td>\n",
       "      <td>2020</td>\n",
       "      <td>May</td>\n",
       "      <td>12</td>\n",
       "    </tr>\n",
       "    <tr>\n",
       "      <th>22724</th>\n",
       "      <td>Azerbaijan</td>\n",
       "      <td>1373</td>\n",
       "      <td>18</td>\n",
       "      <td>590</td>\n",
       "      <td>765</td>\n",
       "      <td>Europe</td>\n",
       "      <td>2020</td>\n",
       "      <td>April</td>\n",
       "      <td>18</td>\n",
       "    </tr>\n",
       "    <tr>\n",
       "      <th>40140</th>\n",
       "      <td>Thailand</td>\n",
       "      <td>3156</td>\n",
       "      <td>58</td>\n",
       "      <td>3023</td>\n",
       "      <td>75</td>\n",
       "      <td>South-East Asia</td>\n",
       "      <td>2020</td>\n",
       "      <td>June</td>\n",
       "      <td>23</td>\n",
       "    </tr>\n",
       "  </tbody>\n",
       "</table>\n",
       "</div>"
      ],
      "text/plain": [
       "          Country  Confirmed  Deaths  Recovered  Active       WHO_Region  \\\n",
       "41808       China        991       6        985       0  Western Pacific   \n",
       "46316       Ghana      26572     144      22915    3513           Africa   \n",
       "29045       China        198       0        198       0  Western Pacific   \n",
       "22724  Azerbaijan       1373      18        590     765           Europe   \n",
       "40140    Thailand       3156      58       3023      75  South-East Asia   \n",
       "\n",
       "       Year  Month  Day  \n",
       "41808  2020   June   30  \n",
       "46316  2020   July   17  \n",
       "29045  2020    May   12  \n",
       "22724  2020  April   18  \n",
       "40140  2020   June   23  "
      ]
     },
     "execution_count": 24,
     "metadata": {},
     "output_type": "execute_result"
    }
   ],
   "source": [
    "data.sample(5)"
   ]
  },
  {
   "cell_type": "markdown",
   "id": "6c1b2fad",
   "metadata": {},
   "source": [
    "### Insights from dataset"
   ]
  },
  {
   "cell_type": "markdown",
   "id": "87c39688",
   "metadata": {},
   "source": [
    "#### 1. How many of died in each year"
   ]
  },
  {
   "cell_type": "code",
   "execution_count": 25,
   "id": "678e3ee7",
   "metadata": {
    "scrolled": true
   },
   "outputs": [
    {
     "data": {
      "text/plain": [
       "array([     0,     17,      1, ...,   5630,  45759, 148011], dtype=int64)"
      ]
     },
     "execution_count": 25,
     "metadata": {},
     "output_type": "execute_result"
    }
   ],
   "source": [
    "data.Deaths.unique()"
   ]
  },
  {
   "cell_type": "code",
   "execution_count": 26,
   "id": "aea5139d",
   "metadata": {},
   "outputs": [
    {
     "data": {
      "text/plain": [
       "array([2020], dtype=int64)"
      ]
     },
     "execution_count": 26,
     "metadata": {},
     "output_type": "execute_result"
    }
   ],
   "source": [
    "data.Year.unique()"
   ]
  },
  {
   "cell_type": "code",
   "execution_count": 27,
   "id": "e83a3025",
   "metadata": {
    "scrolled": true
   },
   "outputs": [
    {
     "data": {
      "text/plain": [
       "Year\n",
       "2020    43384903\n",
       "Name: Deaths, dtype: int64"
      ]
     },
     "execution_count": 27,
     "metadata": {},
     "output_type": "execute_result"
    }
   ],
   "source": [
    "died_year = data.groupby([\"Year\"])[\"Deaths\"]\n",
    "died_year.sum()"
   ]
  },
  {
   "cell_type": "markdown",
   "id": "3b148324",
   "metadata": {},
   "source": [
    "#### 2. How many covid cases confirmed in the year 2020"
   ]
  },
  {
   "cell_type": "code",
   "execution_count": 28,
   "id": "23e42cf6",
   "metadata": {},
   "outputs": [
    {
     "data": {
      "text/plain": [
       "Year\n",
       "2020    828508482\n",
       "Name: Confirmed, dtype: int64"
      ]
     },
     "execution_count": 28,
     "metadata": {},
     "output_type": "execute_result"
    }
   ],
   "source": [
    "confirmed_cases = data.groupby([\"Year\"])[\"Confirmed\"]\n",
    "confirmed_cases.sum()"
   ]
  },
  {
   "cell_type": "markdown",
   "id": "8888c6f3",
   "metadata": {},
   "source": [
    "#### 3. How many of people recovered from covid19"
   ]
  },
  {
   "cell_type": "code",
   "execution_count": 29,
   "id": "bd80a465",
   "metadata": {},
   "outputs": [
    {
     "data": {
      "text/plain": [
       "Year\n",
       "2020    388408229\n",
       "Name: Recovered, dtype: int64"
      ]
     },
     "execution_count": 29,
     "metadata": {},
     "output_type": "execute_result"
    }
   ],
   "source": [
    "recovered_cases = data.groupby([\"Year\"])[\"Recovered\"]\n",
    "recovered_cases.sum()"
   ]
  },
  {
   "cell_type": "markdown",
   "id": "1856bd13",
   "metadata": {},
   "source": [
    "#### 4. Country with highest deaths due to covid19"
   ]
  },
  {
   "cell_type": "code",
   "execution_count": 30,
   "id": "871041c2",
   "metadata": {
    "scrolled": true
   },
   "outputs": [
    {
     "data": {
      "text/plain": [
       "148011"
      ]
     },
     "execution_count": 30,
     "metadata": {},
     "output_type": "execute_result"
    }
   ],
   "source": [
    "data[\"Deaths\"].max()"
   ]
  },
  {
   "cell_type": "code",
   "execution_count": 31,
   "id": "6348bc6c",
   "metadata": {},
   "outputs": [
    {
     "data": {
      "text/plain": [
       "49030    US\n",
       "Name: Country, dtype: object"
      ]
     },
     "execution_count": 31,
     "metadata": {},
     "output_type": "execute_result"
    }
   ],
   "source": [
    "data[\"Country\"][data[\"Deaths\"] == data[\"Deaths\"].max()]"
   ]
  },
  {
   "cell_type": "markdown",
   "id": "cd77aaa2",
   "metadata": {},
   "source": [
    "#### 5. Death due to covid19 from each Country"
   ]
  },
  {
   "cell_type": "code",
   "execution_count": 32,
   "id": "b7899fe0",
   "metadata": {},
   "outputs": [],
   "source": [
    "country_death = data.groupby([\"Country\"])[\"Deaths\"]\n",
    "country_death = country_death.sum()"
   ]
  },
  {
   "cell_type": "code",
   "execution_count": 33,
   "id": "4e1e90c5",
   "metadata": {},
   "outputs": [
    {
     "data": {
      "text/plain": [
       "Country\n",
       "US                11011411\n",
       "United Kingdom     3997775\n",
       "Brazil             3938034\n",
       "Italy              3707717\n",
       "France             3048524\n",
       "                    ...   \n",
       "Bhutan                   0\n",
       "Mongolia                 0\n",
       "Timor-Leste              0\n",
       "Seychelles               0\n",
       "Greenland                0\n",
       "Name: Deaths, Length: 187, dtype: int64"
      ]
     },
     "execution_count": 33,
     "metadata": {},
     "output_type": "execute_result"
    }
   ],
   "source": [
    "#sort in descending order\n",
    "\n",
    "country_death.sort_values(ascending = False)"
   ]
  },
  {
   "cell_type": "markdown",
   "id": "b9426750",
   "metadata": {},
   "source": [
    "#### 6. How many of them are remains active in year 2020"
   ]
  },
  {
   "cell_type": "code",
   "execution_count": 34,
   "id": "617e9665",
   "metadata": {},
   "outputs": [
    {
     "data": {
      "text/plain": [
       "Year\n",
       "2020    396715350\n",
       "Name: Active, dtype: int64"
      ]
     },
     "execution_count": 34,
     "metadata": {},
     "output_type": "execute_result"
    }
   ],
   "source": [
    "active = data.groupby([\"Year\"])[\"Active\"]\n",
    "active.sum()"
   ]
  },
  {
   "cell_type": "markdown",
   "id": "4ebbca3a",
   "metadata": {},
   "source": [
    "#### 7. Each country under the region where how many deaths, confirmed, active cases reported"
   ]
  },
  {
   "cell_type": "code",
   "execution_count": 35,
   "id": "49bfacad",
   "metadata": {},
   "outputs": [
    {
     "data": {
      "text/plain": [
       "array(['Eastern Mediterranean', 'Europe', 'Africa', 'Americas',\n",
       "       'Western Pacific', 'South-East Asia'], dtype=object)"
      ]
     },
     "execution_count": 35,
     "metadata": {},
     "output_type": "execute_result"
    }
   ],
   "source": [
    "data.WHO_Region.unique()"
   ]
  },
  {
   "cell_type": "code",
   "execution_count": 36,
   "id": "88385903",
   "metadata": {
    "scrolled": false
   },
   "outputs": [
    {
     "data": {
      "text/html": [
       "<div>\n",
       "<style scoped>\n",
       "    .dataframe tbody tr th:only-of-type {\n",
       "        vertical-align: middle;\n",
       "    }\n",
       "\n",
       "    .dataframe tbody tr th {\n",
       "        vertical-align: top;\n",
       "    }\n",
       "\n",
       "    .dataframe thead th {\n",
       "        text-align: right;\n",
       "    }\n",
       "</style>\n",
       "<table border=\"1\" class=\"dataframe\">\n",
       "  <thead>\n",
       "    <tr style=\"text-align: right;\">\n",
       "      <th></th>\n",
       "      <th></th>\n",
       "      <th>Deaths</th>\n",
       "      <th>Confirmed</th>\n",
       "      <th>Active</th>\n",
       "    </tr>\n",
       "    <tr>\n",
       "      <th>WHO_Region</th>\n",
       "      <th>Country</th>\n",
       "      <th></th>\n",
       "      <th></th>\n",
       "      <th></th>\n",
       "    </tr>\n",
       "  </thead>\n",
       "  <tbody>\n",
       "    <tr>\n",
       "      <th rowspan=\"5\" valign=\"top\">Africa</th>\n",
       "      <th>Algeria</th>\n",
       "      <td>77972</td>\n",
       "      <td>1179755</td>\n",
       "      <td>345886</td>\n",
       "    </tr>\n",
       "    <tr>\n",
       "      <th>Angola</th>\n",
       "      <td>1078</td>\n",
       "      <td>22662</td>\n",
       "      <td>15011</td>\n",
       "    </tr>\n",
       "    <tr>\n",
       "      <th>Benin</th>\n",
       "      <td>1095</td>\n",
       "      <td>64406</td>\n",
       "      <td>37400</td>\n",
       "    </tr>\n",
       "    <tr>\n",
       "      <th>Botswana</th>\n",
       "      <td>120</td>\n",
       "      <td>15306</td>\n",
       "      <td>12895</td>\n",
       "    </tr>\n",
       "    <tr>\n",
       "      <th>Burkina Faso</th>\n",
       "      <td>5583</td>\n",
       "      <td>96153</td>\n",
       "      <td>15694</td>\n",
       "    </tr>\n",
       "    <tr>\n",
       "      <th>...</th>\n",
       "      <th>...</th>\n",
       "      <td>...</td>\n",
       "      <td>...</td>\n",
       "      <td>...</td>\n",
       "    </tr>\n",
       "    <tr>\n",
       "      <th rowspan=\"5\" valign=\"top\">Western Pacific</th>\n",
       "      <th>Philippines</th>\n",
       "      <td>110892</td>\n",
       "      <td>2972611</td>\n",
       "      <td>2076677</td>\n",
       "    </tr>\n",
       "    <tr>\n",
       "      <th>Singapore</th>\n",
       "      <td>2441</td>\n",
       "      <td>3502472</td>\n",
       "      <td>1127147</td>\n",
       "    </tr>\n",
       "    <tr>\n",
       "      <th>South Korea</th>\n",
       "      <td>33518</td>\n",
       "      <td>1647537</td>\n",
       "      <td>367222</td>\n",
       "    </tr>\n",
       "    <tr>\n",
       "      <th>Taiwan*</th>\n",
       "      <td>840</td>\n",
       "      <td>55593</td>\n",
       "      <td>12569</td>\n",
       "    </tr>\n",
       "    <tr>\n",
       "      <th>Vietnam</th>\n",
       "      <td>0</td>\n",
       "      <td>40675</td>\n",
       "      <td>7837</td>\n",
       "    </tr>\n",
       "  </tbody>\n",
       "</table>\n",
       "<p>187 rows × 3 columns</p>\n",
       "</div>"
      ],
      "text/plain": [
       "                              Deaths  Confirmed   Active\n",
       "WHO_Region      Country                                 \n",
       "Africa          Algeria        77972    1179755   345886\n",
       "                Angola          1078      22662    15011\n",
       "                Benin           1095      64406    37400\n",
       "                Botswana         120      15306    12895\n",
       "                Burkina Faso    5583      96153    15694\n",
       "...                              ...        ...      ...\n",
       "Western Pacific Philippines   110892    2972611  2076677\n",
       "                Singapore       2441    3502472  1127147\n",
       "                South Korea    33518    1647537   367222\n",
       "                Taiwan*          840      55593    12569\n",
       "                Vietnam            0      40675     7837\n",
       "\n",
       "[187 rows x 3 columns]"
      ]
     },
     "execution_count": 36,
     "metadata": {},
     "output_type": "execute_result"
    }
   ],
   "source": [
    "region_country = data.groupby([\"WHO_Region\", \"Country\"])[\"Deaths\", \"Confirmed\", \"Active\"]\n",
    "region_country.sum()"
   ]
  },
  {
   "cell_type": "markdown",
   "id": "ba07b046",
   "metadata": {},
   "source": [
    "#### 8. Total deaths from country India due to covid19"
   ]
  },
  {
   "cell_type": "code",
   "execution_count": 37,
   "id": "ecd21af6",
   "metadata": {},
   "outputs": [
    {
     "data": {
      "text/plain": [
       "1111831"
      ]
     },
     "execution_count": 37,
     "metadata": {},
     "output_type": "execute_result"
    }
   ],
   "source": [
    "data[\"Deaths\"] [data[\"Country\"] == \"India\"].sum()"
   ]
  },
  {
   "cell_type": "markdown",
   "id": "7640e1d6",
   "metadata": {},
   "source": [
    "#### 9. Number of covid cases confirmed in Vietnam"
   ]
  },
  {
   "cell_type": "code",
   "execution_count": 38,
   "id": "4d436390",
   "metadata": {
    "scrolled": true
   },
   "outputs": [
    {
     "data": {
      "text/plain": [
       "40675"
      ]
     },
     "execution_count": 38,
     "metadata": {},
     "output_type": "execute_result"
    }
   ],
   "source": [
    "data.query(\"Country == 'Vietnam'\")[\"Confirmed\"].sum()"
   ]
  },
  {
   "cell_type": "markdown",
   "id": "ee52de5e",
   "metadata": {},
   "source": [
    "#### 10. Number of deaths due to covid19 in African Region"
   ]
  },
  {
   "cell_type": "code",
   "execution_count": 39,
   "id": "84cbb457",
   "metadata": {},
   "outputs": [
    {
     "data": {
      "text/plain": [
       "439978"
      ]
     },
     "execution_count": 39,
     "metadata": {},
     "output_type": "execute_result"
    }
   ],
   "source": [
    "data.query(\"WHO_Region == 'Africa'\")[\"Deaths\"].sum()"
   ]
  },
  {
   "cell_type": "markdown",
   "id": "aee707e5",
   "metadata": {},
   "source": [
    "#### 11. Number of deaths in the month June"
   ]
  },
  {
   "cell_type": "code",
   "execution_count": 40,
   "id": "e0761024",
   "metadata": {},
   "outputs": [
    {
     "data": {
      "text/plain": [
       "13309053"
      ]
     },
     "execution_count": 40,
     "metadata": {},
     "output_type": "execute_result"
    }
   ],
   "source": [
    "data.query(\"Month == 'June'\")[\"Deaths\"].sum()"
   ]
  },
  {
   "cell_type": "markdown",
   "id": "eb78f945",
   "metadata": {},
   "source": [
    "#### 12. Number of deaths from India in the month April"
   ]
  },
  {
   "cell_type": "code",
   "execution_count": 41,
   "id": "2eb1c178",
   "metadata": {},
   "outputs": [
    {
     "data": {
      "text/plain": [
       "14417"
      ]
     },
     "execution_count": 41,
     "metadata": {},
     "output_type": "execute_result"
    }
   ],
   "source": [
    "data.query(\"Country == 'India' & Month == 'April'\")[\"Deaths\"].sum()"
   ]
  },
  {
   "cell_type": "markdown",
   "id": "88e9b25c",
   "metadata": {},
   "source": [
    "#### 13. Number of deaths on the date July 13 at country china"
   ]
  },
  {
   "cell_type": "code",
   "execution_count": 42,
   "id": "f3a1fb14",
   "metadata": {},
   "outputs": [
    {
     "data": {
      "text/plain": [
       "4641"
      ]
     },
     "execution_count": 42,
     "metadata": {},
     "output_type": "execute_result"
    }
   ],
   "source": [
    "data.query(\"Country == 'China' & Month == 'July' & Day == 13\")[\"Deaths\"].sum()"
   ]
  },
  {
   "cell_type": "markdown",
   "id": "a5c20c40",
   "metadata": {},
   "source": [
    "#### 14. Number of active cases in Denmark on April 6"
   ]
  },
  {
   "cell_type": "code",
   "execution_count": 43,
   "id": "31d3e347",
   "metadata": {},
   "outputs": [
    {
     "data": {
      "text/plain": [
       "3616"
      ]
     },
     "execution_count": 43,
     "metadata": {},
     "output_type": "execute_result"
    }
   ],
   "source": [
    "data.query(\"Country == 'Denmark' & Month == 'April' & Day == 8\")[\"Active\"].sum()"
   ]
  },
  {
   "cell_type": "markdown",
   "id": "ce440731",
   "metadata": {},
   "source": [
    "#### 15. Country, Month & Day where maximum covid19 cases confirmed"
   ]
  },
  {
   "cell_type": "code",
   "execution_count": 44,
   "id": "bdb4030a",
   "metadata": {},
   "outputs": [],
   "source": [
    "day_case = data.groupby([\"Country\", \"Month\", \"Day\"])[\"Confirmed\"]\n",
    "maximum_case = day_case.sum()"
   ]
  },
  {
   "cell_type": "code",
   "execution_count": 45,
   "id": "188f5e6b",
   "metadata": {},
   "outputs": [
    {
     "data": {
      "text/plain": [
       "Country        Month     Day\n",
       "US             July      27     4290259\n",
       "                         26     4233923\n",
       "                         25     4178970\n",
       "                         24     4112531\n",
       "                         23     4038816\n",
       "                                 ...   \n",
       "Guinea-Bissau  February  5            0\n",
       "                         4            0\n",
       "                         3            0\n",
       "                         2            0\n",
       "Burundi        January   26           0\n",
       "Name: Confirmed, Length: 35156, dtype: int64"
      ]
     },
     "execution_count": 45,
     "metadata": {},
     "output_type": "execute_result"
    }
   ],
   "source": [
    "maximum_case.sort_values(ascending = False)"
   ]
  },
  {
   "cell_type": "code",
   "execution_count": 46,
   "id": "f576fe05",
   "metadata": {
    "scrolled": true
   },
   "outputs": [
    {
     "data": {
      "text/html": [
       "<div>\n",
       "<style scoped>\n",
       "    .dataframe tbody tr th:only-of-type {\n",
       "        vertical-align: middle;\n",
       "    }\n",
       "\n",
       "    .dataframe tbody tr th {\n",
       "        vertical-align: top;\n",
       "    }\n",
       "\n",
       "    .dataframe thead th {\n",
       "        text-align: right;\n",
       "    }\n",
       "</style>\n",
       "<table border=\"1\" class=\"dataframe\">\n",
       "  <thead>\n",
       "    <tr style=\"text-align: right;\">\n",
       "      <th></th>\n",
       "      <th>Country</th>\n",
       "      <th>Confirmed</th>\n",
       "      <th>Deaths</th>\n",
       "      <th>Recovered</th>\n",
       "      <th>Active</th>\n",
       "      <th>WHO_Region</th>\n",
       "      <th>Year</th>\n",
       "      <th>Month</th>\n",
       "      <th>Day</th>\n",
       "    </tr>\n",
       "  </thead>\n",
       "  <tbody>\n",
       "    <tr>\n",
       "      <th>43267</th>\n",
       "      <td>Suriname</td>\n",
       "      <td>594</td>\n",
       "      <td>14</td>\n",
       "      <td>292</td>\n",
       "      <td>288</td>\n",
       "      <td>Americas</td>\n",
       "      <td>2020</td>\n",
       "      <td>July</td>\n",
       "      <td>5</td>\n",
       "    </tr>\n",
       "    <tr>\n",
       "      <th>35551</th>\n",
       "      <td>China</td>\n",
       "      <td>147</td>\n",
       "      <td>2</td>\n",
       "      <td>145</td>\n",
       "      <td>0</td>\n",
       "      <td>Western Pacific</td>\n",
       "      <td>2020</td>\n",
       "      <td>June</td>\n",
       "      <td>6</td>\n",
       "    </tr>\n",
       "    <tr>\n",
       "      <th>8714</th>\n",
       "      <td>Eswatini</td>\n",
       "      <td>0</td>\n",
       "      <td>0</td>\n",
       "      <td>0</td>\n",
       "      <td>0</td>\n",
       "      <td>Africa</td>\n",
       "      <td>2020</td>\n",
       "      <td>February</td>\n",
       "      <td>24</td>\n",
       "    </tr>\n",
       "    <tr>\n",
       "      <th>14556</th>\n",
       "      <td>Sudan</td>\n",
       "      <td>1</td>\n",
       "      <td>1</td>\n",
       "      <td>0</td>\n",
       "      <td>0</td>\n",
       "      <td>Eastern Mediterranean</td>\n",
       "      <td>2020</td>\n",
       "      <td>March</td>\n",
       "      <td>17</td>\n",
       "    </tr>\n",
       "    <tr>\n",
       "      <th>32393</th>\n",
       "      <td>Brunei</td>\n",
       "      <td>141</td>\n",
       "      <td>1</td>\n",
       "      <td>137</td>\n",
       "      <td>3</td>\n",
       "      <td>Western Pacific</td>\n",
       "      <td>2020</td>\n",
       "      <td>May</td>\n",
       "      <td>25</td>\n",
       "    </tr>\n",
       "  </tbody>\n",
       "</table>\n",
       "</div>"
      ],
      "text/plain": [
       "        Country  Confirmed  Deaths  Recovered  Active             WHO_Region  \\\n",
       "43267  Suriname        594      14        292     288               Americas   \n",
       "35551     China        147       2        145       0        Western Pacific   \n",
       "8714   Eswatini          0       0          0       0                 Africa   \n",
       "14556     Sudan          1       1          0       0  Eastern Mediterranean   \n",
       "32393    Brunei        141       1        137       3        Western Pacific   \n",
       "\n",
       "       Year     Month  Day  \n",
       "43267  2020      July    5  \n",
       "35551  2020      June    6  \n",
       "8714   2020  February   24  \n",
       "14556  2020     March   17  \n",
       "32393  2020       May   25  "
      ]
     },
     "execution_count": 46,
     "metadata": {},
     "output_type": "execute_result"
    }
   ],
   "source": [
    "data.sample(5)"
   ]
  },
  {
   "cell_type": "markdown",
   "id": "5fe8eec1",
   "metadata": {},
   "source": [
    "### plotting covid19 dataset"
   ]
  },
  {
   "cell_type": "code",
   "execution_count": 47,
   "id": "bc04efb4",
   "metadata": {},
   "outputs": [],
   "source": [
    "import matplotlib.pyplot as plt\n",
    "%matplotlib inline\n",
    "\n",
    "import seaborn as sns"
   ]
  },
  {
   "cell_type": "markdown",
   "id": "37d9cbb8",
   "metadata": {},
   "source": [
    "#### Bar chart showing Deaths, Confirmed, & Active cases in each WHO_Region"
   ]
  },
  {
   "cell_type": "code",
   "execution_count": 72,
   "id": "a55e67f0",
   "metadata": {
    "scrolled": false
   },
   "outputs": [
    {
     "data": {
      "image/png": "[encoded data removed]",
      "text/plain": [
       "<Figure size 700x300 with 1 Axes>"
      ]
     },
     "metadata": {},
     "output_type": "display_data"
    }
   ],
   "source": [
    "region_country = data.groupby([\"WHO_Region\"])[\"Deaths\", \"Confirmed\", \"Active\"].sum().plot.bar(figsize = (7, 3), cmap = \"brg\")"
   ]
  },
  {
   "cell_type": "markdown",
   "id": "1128fcd8",
   "metadata": {},
   "source": [
    "#### Pie chart showing Confirmed cases in each WHO_Region"
   ]
  },
  {
   "cell_type": "code",
   "execution_count": 70,
   "id": "cba013e9",
   "metadata": {},
   "outputs": [],
   "source": [
    "region_confirmed = data.groupby([\"WHO_Region\"])[\"Confirmed\"].sum()"
   ]
  },
  {
   "cell_type": "code",
   "execution_count": 76,
   "id": "991adb78",
   "metadata": {
    "scrolled": false
   },
   "outputs": [
    {
     "data": {
      "image/png": "[encoded data removed]",
      "text/plain": [
       "<Figure size 640x480 with 1 Axes>"
      ]
     },
     "metadata": {},
     "output_type": "display_data"
    }
   ],
   "source": [
    "palette_color = sns.color_palette('mako')\n",
    "region_confirmed.plot.pie(autopct = \"%1.2f%%\", colors = palette_color)\n",
    "plt.title(\"Confirmed cases in each WHO Region\")\n",
    "\n",
    "plt.legend(bbox_to_anchor = (1.5, 1), loc = \"upper left\")\n",
    "plt.show()"
   ]
  },
  {
   "cell_type": "markdown",
   "id": "e5ce0cc6",
   "metadata": {},
   "source": [
    "#### 16. Covid19 data from china respective of each month"
   ]
  },
  {
   "cell_type": "code",
   "execution_count": 50,
   "id": "949bef0f",
   "metadata": {
    "scrolled": true
   },
   "outputs": [
    {
     "data": {
      "text/html": [
       "<div>\n",
       "<style scoped>\n",
       "    .dataframe tbody tr th:only-of-type {\n",
       "        vertical-align: middle;\n",
       "    }\n",
       "\n",
       "    .dataframe tbody tr th {\n",
       "        vertical-align: top;\n",
       "    }\n",
       "\n",
       "    .dataframe thead th {\n",
       "        text-align: right;\n",
       "    }\n",
       "</style>\n",
       "<table border=\"1\" class=\"dataframe\">\n",
       "  <thead>\n",
       "    <tr style=\"text-align: right;\">\n",
       "      <th></th>\n",
       "      <th>Confirmed</th>\n",
       "      <th>Deaths</th>\n",
       "      <th>Recovered</th>\n",
       "      <th>Active</th>\n",
       "    </tr>\n",
       "    <tr>\n",
       "      <th>Month</th>\n",
       "      <th></th>\n",
       "      <th></th>\n",
       "      <th></th>\n",
       "      <th></th>\n",
       "    </tr>\n",
       "  </thead>\n",
       "  <tbody>\n",
       "    <tr>\n",
       "      <th>April</th>\n",
       "      <td>2500143</td>\n",
       "      <td>118290</td>\n",
       "      <td>2285997</td>\n",
       "      <td>95856</td>\n",
       "    </tr>\n",
       "    <tr>\n",
       "      <th>February</th>\n",
       "      <td>1634869</td>\n",
       "      <td>46417</td>\n",
       "      <td>360036</td>\n",
       "      <td>1228416</td>\n",
       "    </tr>\n",
       "    <tr>\n",
       "      <th>January</th>\n",
       "      <td>38008</td>\n",
       "      <td>889</td>\n",
       "      <td>804</td>\n",
       "      <td>36315</td>\n",
       "    </tr>\n",
       "    <tr>\n",
       "      <th>July</th>\n",
       "      <td>2305596</td>\n",
       "      <td>125401</td>\n",
       "      <td>2116856</td>\n",
       "      <td>63339</td>\n",
       "    </tr>\n",
       "    <tr>\n",
       "      <th>June</th>\n",
       "      <td>2532679</td>\n",
       "      <td>139165</td>\n",
       "      <td>2337664</td>\n",
       "      <td>55850</td>\n",
       "    </tr>\n",
       "    <tr>\n",
       "      <th>March</th>\n",
       "      <td>2515426</td>\n",
       "      <td>98488</td>\n",
       "      <td>1959975</td>\n",
       "      <td>456963</td>\n",
       "    </tr>\n",
       "    <tr>\n",
       "      <th>May</th>\n",
       "      <td>2605281</td>\n",
       "      <td>143763</td>\n",
       "      <td>2405534</td>\n",
       "      <td>55984</td>\n",
       "    </tr>\n",
       "  </tbody>\n",
       "</table>\n",
       "</div>"
      ],
      "text/plain": [
       "          Confirmed  Deaths  Recovered   Active\n",
       "Month                                          \n",
       "April       2500143  118290    2285997    95856\n",
       "February    1634869   46417     360036  1228416\n",
       "January       38008     889        804    36315\n",
       "July        2305596  125401    2116856    63339\n",
       "June        2532679  139165    2337664    55850\n",
       "March       2515426   98488    1959975   456963\n",
       "May         2605281  143763    2405534    55984"
      ]
     },
     "execution_count": 50,
     "metadata": {},
     "output_type": "execute_result"
    }
   ],
   "source": [
    "data_china = data.query(\"Country == 'China'\")\n",
    "data_china_groupby = data_china.groupby([\"Month\"])[\"Confirmed\", \"Deaths\", \"Recovered\", \"Active\"].sum()\n",
    "data_china_groupby"
   ]
  },
  {
   "cell_type": "markdown",
   "id": "e3deca57",
   "metadata": {},
   "source": [
    "#### Pair plot of above data"
   ]
  },
  {
   "cell_type": "code",
   "execution_count": 51,
   "id": "d810a052",
   "metadata": {},
   "outputs": [
    {
     "data": {
      "text/plain": [
       "<seaborn.axisgrid.PairGrid at 0x26cea42cc10>"
      ]
     },
     "execution_count": 51,
     "metadata": {},
     "output_type": "execute_result"
    },
    {
     "data": {
      "image/png": "[encoded data removed]",
      "text/plain": [
       "<Figure size 1000x1000 with 20 Axes>"
      ]
     },
     "metadata": {},
     "output_type": "display_data"
    }
   ],
   "source": [
    "sns.pairplot(data = data_china_groupby)"
   ]
  },
  {
   "cell_type": "markdown",
   "id": "9cf763c4",
   "metadata": {},
   "source": [
    "#### Joint plot of above data"
   ]
  },
  {
   "cell_type": "code",
   "execution_count": 52,
   "id": "43f2b5d7",
   "metadata": {},
   "outputs": [
    {
     "data": {
      "text/plain": [
       "<seaborn.axisgrid.JointGrid at 0x26cf5b1ed90>"
      ]
     },
     "execution_count": 52,
     "metadata": {},
     "output_type": "execute_result"
    },
    {
     "data": {
      "image/png": "[encoded data removed]",
      "text/plain": [
       "<Figure size 600x600 with 3 Axes>"
      ]
     },
     "metadata": {},
     "output_type": "display_data"
    }
   ],
   "source": [
    "sns.jointplot(data = data_china_groupby, x = \"Confirmed\", y = \"Deaths\", kind = \"reg\")"
   ]
  }
 ],
 "metadata": {
  "kernelspec": {
   "display_name": "Python 3 (ipykernel)",
   "language": "python",
   "name": "python3"
  },
  "language_info": {
   "codemirror_mode": {
    "name": "ipython",
    "version": 3
   },
   "file_extension": ".py",
   "mimetype": "text/x-python",
   "name": "python",
   "nbconvert_exporter": "python",
   "pygments_lexer": "ipython3",
   "version": "3.9.13"
  }
 },
 "nbformat": 4,
 "nbformat_minor": 5
}
