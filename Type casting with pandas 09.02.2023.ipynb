{
 "cells": [
  {
   "cell_type": "code",
   "execution_count": 1,
   "id": "a1551633",
   "metadata": {},
   "outputs": [],
   "source": [
    "import numpy as np\n",
    "import pandas as pd"
   ]
  },
  {
   "cell_type": "code",
   "execution_count": 2,
   "id": "d8adf93a",
   "metadata": {},
   "outputs": [],
   "source": [
    "import warnings\n",
    "warnings.filterwarnings(\"ignore\")"
   ]
  },
  {
   "cell_type": "code",
   "execution_count": 3,
   "id": "ea4b463e",
   "metadata": {},
   "outputs": [],
   "source": [
    "data = pd.read_csv(\"Car_sales.csv\")"
   ]
  },
  {
   "cell_type": "code",
   "execution_count": 4,
   "id": "dd90ce16",
   "metadata": {},
   "outputs": [
    {
     "data": {
      "text/html": [
       "<div>\n",
       "<style scoped>\n",
       "    .dataframe tbody tr th:only-of-type {\n",
       "        vertical-align: middle;\n",
       "    }\n",
       "\n",
       "    .dataframe tbody tr th {\n",
       "        vertical-align: top;\n",
       "    }\n",
       "\n",
       "    .dataframe thead th {\n",
       "        text-align: right;\n",
       "    }\n",
       "</style>\n",
       "<table border=\"1\" class=\"dataframe\">\n",
       "  <thead>\n",
       "    <tr style=\"text-align: right;\">\n",
       "      <th></th>\n",
       "      <th>Manufacturer</th>\n",
       "      <th>Model</th>\n",
       "      <th>Sales_in_thousands</th>\n",
       "      <th>__year_resale_value</th>\n",
       "      <th>Vehicle_type</th>\n",
       "      <th>Price_in_thousands</th>\n",
       "      <th>Engine_size</th>\n",
       "      <th>Horsepower</th>\n",
       "      <th>Wheelbase</th>\n",
       "      <th>Width</th>\n",
       "      <th>Length</th>\n",
       "      <th>Curb_weight</th>\n",
       "      <th>Fuel_capacity</th>\n",
       "      <th>Fuel_efficiency</th>\n",
       "      <th>Latest_Launch</th>\n",
       "      <th>Power_perf_factor</th>\n",
       "    </tr>\n",
       "  </thead>\n",
       "  <tbody>\n",
       "    <tr>\n",
       "      <th>9</th>\n",
       "      <td>BMW</td>\n",
       "      <td>528i</td>\n",
       "      <td>17.527</td>\n",
       "      <td>36.125</td>\n",
       "      <td>Passenger</td>\n",
       "      <td>38.900</td>\n",
       "      <td>2.8</td>\n",
       "      <td>193.0</td>\n",
       "      <td>111.4</td>\n",
       "      <td>70.9</td>\n",
       "      <td>188.0</td>\n",
       "      <td>3.472</td>\n",
       "      <td>18.5</td>\n",
       "      <td>25.0</td>\n",
       "      <td>4/4/2011</td>\n",
       "      <td>83.998724</td>\n",
       "    </tr>\n",
       "    <tr>\n",
       "      <th>89</th>\n",
       "      <td>Mercury</td>\n",
       "      <td>Grand Marquis</td>\n",
       "      <td>81.174</td>\n",
       "      <td>14.875</td>\n",
       "      <td>Passenger</td>\n",
       "      <td>22.605</td>\n",
       "      <td>4.6</td>\n",
       "      <td>200.0</td>\n",
       "      <td>114.7</td>\n",
       "      <td>78.2</td>\n",
       "      <td>212.0</td>\n",
       "      <td>3.958</td>\n",
       "      <td>19.0</td>\n",
       "      <td>21.0</td>\n",
       "      <td>7/24/2012</td>\n",
       "      <td>80.657696</td>\n",
       "    </tr>\n",
       "    <tr>\n",
       "      <th>156</th>\n",
       "      <td>Volvo</td>\n",
       "      <td>S80</td>\n",
       "      <td>18.969</td>\n",
       "      <td>NaN</td>\n",
       "      <td>Passenger</td>\n",
       "      <td>36.000</td>\n",
       "      <td>2.9</td>\n",
       "      <td>201.0</td>\n",
       "      <td>109.9</td>\n",
       "      <td>72.1</td>\n",
       "      <td>189.8</td>\n",
       "      <td>3.600</td>\n",
       "      <td>21.1</td>\n",
       "      <td>24.0</td>\n",
       "      <td>11/14/2011</td>\n",
       "      <td>85.735655</td>\n",
       "    </tr>\n",
       "    <tr>\n",
       "      <th>71</th>\n",
       "      <td>Lexus</td>\n",
       "      <td>GS300</td>\n",
       "      <td>12.698</td>\n",
       "      <td>32.075</td>\n",
       "      <td>Passenger</td>\n",
       "      <td>37.805</td>\n",
       "      <td>3.0</td>\n",
       "      <td>225.0</td>\n",
       "      <td>110.2</td>\n",
       "      <td>70.9</td>\n",
       "      <td>189.2</td>\n",
       "      <td>3.638</td>\n",
       "      <td>19.8</td>\n",
       "      <td>23.0</td>\n",
       "      <td>5/10/2012</td>\n",
       "      <td>94.946698</td>\n",
       "    </tr>\n",
       "  </tbody>\n",
       "</table>\n",
       "</div>"
      ],
      "text/plain": [
       "    Manufacturer          Model  Sales_in_thousands  __year_resale_value  \\\n",
       "9            BMW           528i              17.527               36.125   \n",
       "89       Mercury  Grand Marquis              81.174               14.875   \n",
       "156        Volvo            S80              18.969                  NaN   \n",
       "71         Lexus          GS300              12.698               32.075   \n",
       "\n",
       "    Vehicle_type  Price_in_thousands  Engine_size  Horsepower  Wheelbase  \\\n",
       "9      Passenger              38.900          2.8       193.0      111.4   \n",
       "89     Passenger              22.605          4.6       200.0      114.7   \n",
       "156    Passenger              36.000          2.9       201.0      109.9   \n",
       "71     Passenger              37.805          3.0       225.0      110.2   \n",
       "\n",
       "     Width  Length  Curb_weight  Fuel_capacity  Fuel_efficiency Latest_Launch  \\\n",
       "9     70.9   188.0        3.472           18.5             25.0      4/4/2011   \n",
       "89    78.2   212.0        3.958           19.0             21.0     7/24/2012   \n",
       "156   72.1   189.8        3.600           21.1             24.0    11/14/2011   \n",
       "71    70.9   189.2        3.638           19.8             23.0     5/10/2012   \n",
       "\n",
       "     Power_perf_factor  \n",
       "9            83.998724  \n",
       "89           80.657696  \n",
       "156          85.735655  \n",
       "71           94.946698  "
      ]
     },
     "execution_count": 4,
     "metadata": {},
     "output_type": "execute_result"
    }
   ],
   "source": [
    "data.sample(4)"
   ]
  },
  {
   "cell_type": "code",
   "execution_count": 7,
   "id": "ec23f828",
   "metadata": {},
   "outputs": [
    {
     "data": {
      "text/plain": [
       "Manufacturer            0\n",
       "Model                   0\n",
       "Sales_in_thousands      0\n",
       "__year_resale_value    36\n",
       "Vehicle_type            0\n",
       "Price_in_thousands      2\n",
       "Engine_size             1\n",
       "Horsepower              1\n",
       "Wheelbase               1\n",
       "Width                   1\n",
       "Length                  1\n",
       "Curb_weight             2\n",
       "Fuel_capacity           1\n",
       "Fuel_efficiency         3\n",
       "Latest_Launch           0\n",
       "Power_perf_factor       2\n",
       "dtype: int64"
      ]
     },
     "execution_count": 7,
     "metadata": {},
     "output_type": "execute_result"
    }
   ],
   "source": [
    "data.isnull().sum()"
   ]
  },
  {
   "cell_type": "code",
   "execution_count": 8,
   "id": "7b76e482",
   "metadata": {},
   "outputs": [],
   "source": [
    "data.dropna(inplace = True)"
   ]
  },
  {
   "cell_type": "code",
   "execution_count": 11,
   "id": "d21bc84b",
   "metadata": {},
   "outputs": [
    {
     "data": {
      "text/plain": [
       "Manufacturer           0\n",
       "Model                  0\n",
       "Sales_in_thousands     0\n",
       "__year_resale_value    0\n",
       "Vehicle_type           0\n",
       "Price_in_thousands     0\n",
       "Engine_size            0\n",
       "Horsepower             0\n",
       "Wheelbase              0\n",
       "Width                  0\n",
       "Length                 0\n",
       "Curb_weight            0\n",
       "Fuel_capacity          0\n",
       "Fuel_efficiency        0\n",
       "Latest_Launch          0\n",
       "Power_perf_factor      0\n",
       "dtype: int64"
      ]
     },
     "execution_count": 11,
     "metadata": {},
     "output_type": "execute_result"
    }
   ],
   "source": [
    "data.isnull().sum()"
   ]
  },
  {
   "cell_type": "code",
   "execution_count": 12,
   "id": "b4681538",
   "metadata": {
    "scrolled": false
   },
   "outputs": [
    {
     "name": "stdout",
     "output_type": "stream",
     "text": [
      "<class 'pandas.core.frame.DataFrame'>\n",
      "Int64Index: 117 entries, 0 to 149\n",
      "Data columns (total 16 columns):\n",
      " #   Column               Non-Null Count  Dtype  \n",
      "---  ------               --------------  -----  \n",
      " 0   Manufacturer         117 non-null    object \n",
      " 1   Model                117 non-null    object \n",
      " 2   Sales_in_thousands   117 non-null    float64\n",
      " 3   __year_resale_value  117 non-null    float64\n",
      " 4   Vehicle_type         117 non-null    object \n",
      " 5   Price_in_thousands   117 non-null    float64\n",
      " 6   Engine_size          117 non-null    float64\n",
      " 7   Horsepower           117 non-null    float64\n",
      " 8   Wheelbase            117 non-null    float64\n",
      " 9   Width                117 non-null    float64\n",
      " 10  Length               117 non-null    float64\n",
      " 11  Curb_weight          117 non-null    float64\n",
      " 12  Fuel_capacity        117 non-null    float64\n",
      " 13  Fuel_efficiency      117 non-null    float64\n",
      " 14  Latest_Launch        117 non-null    object \n",
      " 15  Power_perf_factor    117 non-null    float64\n",
      "dtypes: float64(12), object(4)\n",
      "memory usage: 15.5+ KB\n"
     ]
    }
   ],
   "source": [
    "data.info()"
   ]
  },
  {
   "cell_type": "code",
   "execution_count": 14,
   "id": "b9968fee",
   "metadata": {},
   "outputs": [
    {
     "data": {
      "text/plain": [
       "array(['2/2/2012', '6/3/2011', '3/10/2011', '10/8/2011', '8/9/2011',\n",
       "       '2/27/2012', '1/29/2012', '4/4/2011', '11/2/2011', '9/3/2011',\n",
       "       '3/23/2012', '7/23/2011', '2/23/2012', '11/27/2011', '9/28/2011',\n",
       "       '8/17/2011', '3/19/2012', '5/24/2011', '12/22/2011', '10/23/2011',\n",
       "       '5/12/2012', '9/11/2011', '4/13/2012', '1/16/2012', '11/17/2011',\n",
       "       '6/6/2012', '10/6/2011', '5/8/2012', '12/12/2011', '7/1/2012',\n",
       "       '10/31/2011', '8/7/2011', '3/6/2012', '1/6/2012', '7/26/2012',\n",
       "       '11/25/2011', '9/1/2011', '3/31/2012', '1/31/2012', '8/20/2012',\n",
       "       '12/20/2011', '9/26/2011', '4/25/2012', '2/25/2012', '9/14/2012',\n",
       "       '1/14/2012', '8/16/2012', '10/21/2011', '5/20/2012', '3/21/2012',\n",
       "       '10/9/2012', '2/8/2012', '9/10/2012', '11/15/2011', '6/14/2012',\n",
       "       '4/15/2012', '3/4/2012', '10/5/2012', '12/10/2011', '7/9/2012',\n",
       "       '5/10/2012', '3/29/2012', '8/3/2012', '6/4/2012', '4/23/2012',\n",
       "       '11/24/2012', '8/28/2012', '6/29/2012', '1/17/2012', '5/18/2012',\n",
       "       '12/19/2012', '9/22/2012', '7/24/2012', '2/13/2008', '10/20/2009',\n",
       "       '4/24/2011', '7/12/2011', '6/13/2011', '3/17/2011', '8/31/2011',\n",
       "       '8/2/2011', '5/6/2011', '3/7/2011', '9/25/2011', '5/31/2011',\n",
       "       '2/18/2011', '9/21/2011', '6/25/2011', '4/26/2011', '11/14/2011',\n",
       "       '1/25/2012', '11/26/2012', '6/16/2012', '10/15/2012', '5/18/2011',\n",
       "       '2/19/2012', '12/21/2012', '7/11/2011', '3/16/2011', '1/15/2011',\n",
       "       '4/11/2011', '2/10/2011', '12/29/2012', '8/1/2011', '1/24/2011',\n",
       "       '8/27/2011', '10/30/2012', '4/1/2011'], dtype=object)"
      ]
     },
     "execution_count": 14,
     "metadata": {},
     "output_type": "execute_result"
    }
   ],
   "source": [
    "data.Latest_Launch.unique()"
   ]
  },
  {
   "cell_type": "code",
   "execution_count": 18,
   "id": "e4f2c4a6",
   "metadata": {},
   "outputs": [],
   "source": [
    "data[\"Latest_Launch \"] = pd.to_datetime(data.Latest_Launch)        #change dtype of object to datetime, in case of date columns"
   ]
  },
  {
   "cell_type": "code",
   "execution_count": 21,
   "id": "18fd2eae",
   "metadata": {
    "scrolled": true
   },
   "outputs": [
    {
     "name": "stdout",
     "output_type": "stream",
     "text": [
      "<class 'pandas.core.series.Series'>\n",
      "Int64Index: 117 entries, 0 to 149\n",
      "Series name: Latest_Launch \n",
      "Non-Null Count  Dtype         \n",
      "--------------  -----         \n",
      "117 non-null    datetime64[ns]\n",
      "dtypes: datetime64[ns](1)\n",
      "memory usage: 1.8 KB\n"
     ]
    }
   ],
   "source": [
    "data[\"Latest_Launch \"].info()"
   ]
  },
  {
   "cell_type": "code",
   "execution_count": 22,
   "id": "eb7f92f2",
   "metadata": {},
   "outputs": [],
   "source": [
    "data[\"year\"] = pd.DatetimeIndex(data[\"Latest_Launch\"]).year                 #seperate year, month & day from \"Latest_Lunch\""
   ]
  },
  {
   "cell_type": "code",
   "execution_count": 24,
   "id": "329aa6bf",
   "metadata": {},
   "outputs": [],
   "source": [
    "data[\"month\"] = pd.DatetimeIndex(data.Latest_Launch).month\n",
    "data[\"day\"] = pd.DatetimeIndex(data[\"Latest_Launch\"]).day"
   ]
  },
  {
   "cell_type": "code",
   "execution_count": 25,
   "id": "01f8bcb2",
   "metadata": {},
   "outputs": [
    {
     "data": {
      "text/html": [
       "<div>\n",
       "<style scoped>\n",
       "    .dataframe tbody tr th:only-of-type {\n",
       "        vertical-align: middle;\n",
       "    }\n",
       "\n",
       "    .dataframe tbody tr th {\n",
       "        vertical-align: top;\n",
       "    }\n",
       "\n",
       "    .dataframe thead th {\n",
       "        text-align: right;\n",
       "    }\n",
       "</style>\n",
       "<table border=\"1\" class=\"dataframe\">\n",
       "  <thead>\n",
       "    <tr style=\"text-align: right;\">\n",
       "      <th></th>\n",
       "      <th>Manufacturer</th>\n",
       "      <th>Model</th>\n",
       "      <th>Sales_in_thousands</th>\n",
       "      <th>__year_resale_value</th>\n",
       "      <th>Vehicle_type</th>\n",
       "      <th>Price_in_thousands</th>\n",
       "      <th>Engine_size</th>\n",
       "      <th>Horsepower</th>\n",
       "      <th>Wheelbase</th>\n",
       "      <th>Width</th>\n",
       "      <th>Length</th>\n",
       "      <th>Curb_weight</th>\n",
       "      <th>Fuel_capacity</th>\n",
       "      <th>Fuel_efficiency</th>\n",
       "      <th>Latest_Launch</th>\n",
       "      <th>Power_perf_factor</th>\n",
       "      <th>Latest_Launch</th>\n",
       "      <th>year</th>\n",
       "      <th>month</th>\n",
       "      <th>day</th>\n",
       "    </tr>\n",
       "  </thead>\n",
       "  <tbody>\n",
       "    <tr>\n",
       "      <th>79</th>\n",
       "      <td>Mitsubishi</td>\n",
       "      <td>Mirage</td>\n",
       "      <td>26.232</td>\n",
       "      <td>8.325</td>\n",
       "      <td>Passenger</td>\n",
       "      <td>13.987</td>\n",
       "      <td>1.8</td>\n",
       "      <td>113.0</td>\n",
       "      <td>98.4</td>\n",
       "      <td>66.5</td>\n",
       "      <td>173.6</td>\n",
       "      <td>2.25</td>\n",
       "      <td>13.2</td>\n",
       "      <td>30.0</td>\n",
       "      <td>4/23/2012</td>\n",
       "      <td>45.832181</td>\n",
       "      <td>2012-04-23</td>\n",
       "      <td>2012</td>\n",
       "      <td>4</td>\n",
       "      <td>23</td>\n",
       "    </tr>\n",
       "  </tbody>\n",
       "</table>\n",
       "</div>"
      ],
      "text/plain": [
       "   Manufacturer   Model  Sales_in_thousands  __year_resale_value Vehicle_type  \\\n",
       "79   Mitsubishi  Mirage              26.232                8.325    Passenger   \n",
       "\n",
       "    Price_in_thousands  Engine_size  Horsepower  Wheelbase  Width  Length  \\\n",
       "79              13.987          1.8       113.0       98.4   66.5   173.6   \n",
       "\n",
       "    Curb_weight  Fuel_capacity  Fuel_efficiency Latest_Launch  \\\n",
       "79         2.25           13.2             30.0     4/23/2012   \n",
       "\n",
       "    Power_perf_factor Latest_Launch   year  month  day  \n",
       "79          45.832181     2012-04-23  2012      4   23  "
      ]
     },
     "execution_count": 25,
     "metadata": {},
     "output_type": "execute_result"
    }
   ],
   "source": [
    "data.sample()"
   ]
  },
  {
   "cell_type": "code",
   "execution_count": 26,
   "id": "a10d4554",
   "metadata": {},
   "outputs": [],
   "source": [
    "#let's convert dtype of \"Fuel_efficiency\" in int\n",
    "\n",
    "data[\"Fuel_efficiency\"] = data[\"Fuel_efficiency\"].astype(int)"
   ]
  },
  {
   "cell_type": "code",
   "execution_count": 28,
   "id": "e1ef1982",
   "metadata": {},
   "outputs": [
    {
     "name": "stdout",
     "output_type": "stream",
     "text": [
      "<class 'pandas.core.series.Series'>\n",
      "Int64Index: 117 entries, 0 to 149\n",
      "Series name: Fuel_efficiency\n",
      "Non-Null Count  Dtype\n",
      "--------------  -----\n",
      "117 non-null    int32\n",
      "dtypes: int32(1)\n",
      "memory usage: 1.4 KB\n"
     ]
    }
   ],
   "source": [
    "data.Fuel_efficiency.info()"
   ]
  },
  {
   "cell_type": "code",
   "execution_count": 37,
   "id": "c9936081",
   "metadata": {},
   "outputs": [
    {
     "data": {
      "text/plain": [
       "1    25\n",
       "Name: Fuel_efficiency, dtype: int32"
      ]
     },
     "execution_count": 37,
     "metadata": {},
     "output_type": "execute_result"
    }
   ],
   "source": [
    "data[\"Fuel_efficiency\"].sample()"
   ]
  },
  {
   "cell_type": "code",
   "execution_count": 44,
   "id": "d3ff5fa7",
   "metadata": {},
   "outputs": [
    {
     "data": {
      "text/html": [
       "<div>\n",
       "<style scoped>\n",
       "    .dataframe tbody tr th:only-of-type {\n",
       "        vertical-align: middle;\n",
       "    }\n",
       "\n",
       "    .dataframe tbody tr th {\n",
       "        vertical-align: top;\n",
       "    }\n",
       "\n",
       "    .dataframe thead th {\n",
       "        text-align: right;\n",
       "    }\n",
       "</style>\n",
       "<table border=\"1\" class=\"dataframe\">\n",
       "  <thead>\n",
       "    <tr style=\"text-align: right;\">\n",
       "      <th></th>\n",
       "      <th>Manufacturer</th>\n",
       "      <th>Model</th>\n",
       "      <th>Sales_in_thousands</th>\n",
       "      <th>__year_resale_value</th>\n",
       "      <th>Vehicle_type</th>\n",
       "      <th>Price_in_thousands</th>\n",
       "      <th>Engine_size</th>\n",
       "      <th>Horsepower</th>\n",
       "      <th>Wheelbase</th>\n",
       "      <th>Width</th>\n",
       "      <th>Length</th>\n",
       "      <th>Curb_weight</th>\n",
       "      <th>Fuel_capacity</th>\n",
       "      <th>Fuel_efficiency</th>\n",
       "      <th>Latest_Launch</th>\n",
       "      <th>Power_perf_factor</th>\n",
       "      <th>Latest_Launch</th>\n",
       "      <th>year</th>\n",
       "      <th>month</th>\n",
       "      <th>day</th>\n",
       "    </tr>\n",
       "  </thead>\n",
       "  <tbody>\n",
       "    <tr>\n",
       "      <th>76</th>\n",
       "      <td>Lincoln</td>\n",
       "      <td>Continental</td>\n",
       "      <td>13.798</td>\n",
       "      <td>20.525</td>\n",
       "      <td>Passenger</td>\n",
       "      <td>39.080</td>\n",
       "      <td>4.6</td>\n",
       "      <td>275.0</td>\n",
       "      <td>109.0</td>\n",
       "      <td>73.6</td>\n",
       "      <td>208.5</td>\n",
       "      <td>3.868</td>\n",
       "      <td>20.0</td>\n",
       "      <td>22</td>\n",
       "      <td>8/3/2012</td>\n",
       "      <td>113.540207</td>\n",
       "      <td>2012-08-03</td>\n",
       "      <td>2012</td>\n",
       "      <td>August</td>\n",
       "      <td>3</td>\n",
       "    </tr>\n",
       "    <tr>\n",
       "      <th>56</th>\n",
       "      <td>Ford</td>\n",
       "      <td>F-Series</td>\n",
       "      <td>540.561</td>\n",
       "      <td>15.075</td>\n",
       "      <td>Car</td>\n",
       "      <td>26.935</td>\n",
       "      <td>4.6</td>\n",
       "      <td>220.0</td>\n",
       "      <td>138.5</td>\n",
       "      <td>79.1</td>\n",
       "      <td>224.5</td>\n",
       "      <td>4.241</td>\n",
       "      <td>25.1</td>\n",
       "      <td>18</td>\n",
       "      <td>8/16/2012</td>\n",
       "      <td>89.401935</td>\n",
       "      <td>2012-08-16</td>\n",
       "      <td>2012</td>\n",
       "      <td>August</td>\n",
       "      <td>16</td>\n",
       "    </tr>\n",
       "    <tr>\n",
       "      <th>95</th>\n",
       "      <td>Mercedes-B</td>\n",
       "      <td>SL-Class</td>\n",
       "      <td>3.311</td>\n",
       "      <td>58.600</td>\n",
       "      <td>Passenger</td>\n",
       "      <td>82.600</td>\n",
       "      <td>5.0</td>\n",
       "      <td>302.0</td>\n",
       "      <td>99.0</td>\n",
       "      <td>71.3</td>\n",
       "      <td>177.1</td>\n",
       "      <td>4.125</td>\n",
       "      <td>21.1</td>\n",
       "      <td>20</td>\n",
       "      <td>3/17/2011</td>\n",
       "      <td>139.982294</td>\n",
       "      <td>2011-03-17</td>\n",
       "      <td>2011</td>\n",
       "      <td>March</td>\n",
       "      <td>17</td>\n",
       "    </tr>\n",
       "    <tr>\n",
       "      <th>41</th>\n",
       "      <td>Dodge</td>\n",
       "      <td>Ram Wagon</td>\n",
       "      <td>16.767</td>\n",
       "      <td>15.510</td>\n",
       "      <td>Car</td>\n",
       "      <td>21.315</td>\n",
       "      <td>3.9</td>\n",
       "      <td>175.0</td>\n",
       "      <td>109.6</td>\n",
       "      <td>78.8</td>\n",
       "      <td>192.6</td>\n",
       "      <td>4.245</td>\n",
       "      <td>32.0</td>\n",
       "      <td>15</td>\n",
       "      <td>1/6/2012</td>\n",
       "      <td>71.135292</td>\n",
       "      <td>2012-01-06</td>\n",
       "      <td>2012</td>\n",
       "      <td>January</td>\n",
       "      <td>6</td>\n",
       "    </tr>\n",
       "    <tr>\n",
       "      <th>59</th>\n",
       "      <td>Honda</td>\n",
       "      <td>CR-V</td>\n",
       "      <td>73.203</td>\n",
       "      <td>17.710</td>\n",
       "      <td>Car</td>\n",
       "      <td>20.550</td>\n",
       "      <td>2.0</td>\n",
       "      <td>146.0</td>\n",
       "      <td>103.2</td>\n",
       "      <td>68.9</td>\n",
       "      <td>177.6</td>\n",
       "      <td>3.219</td>\n",
       "      <td>15.3</td>\n",
       "      <td>24</td>\n",
       "      <td>3/21/2012</td>\n",
       "      <td>60.087967</td>\n",
       "      <td>2012-03-21</td>\n",
       "      <td>2012</td>\n",
       "      <td>March</td>\n",
       "      <td>21</td>\n",
       "    </tr>\n",
       "  </tbody>\n",
       "</table>\n",
       "</div>"
      ],
      "text/plain": [
       "   Manufacturer        Model  Sales_in_thousands  __year_resale_value  \\\n",
       "76      Lincoln  Continental              13.798               20.525   \n",
       "56         Ford     F-Series             540.561               15.075   \n",
       "95   Mercedes-B     SL-Class               3.311               58.600   \n",
       "41        Dodge    Ram Wagon              16.767               15.510   \n",
       "59        Honda         CR-V              73.203               17.710   \n",
       "\n",
       "   Vehicle_type  Price_in_thousands  Engine_size  Horsepower  Wheelbase  \\\n",
       "76    Passenger              39.080          4.6       275.0      109.0   \n",
       "56          Car              26.935          4.6       220.0      138.5   \n",
       "95    Passenger              82.600          5.0       302.0       99.0   \n",
       "41          Car              21.315          3.9       175.0      109.6   \n",
       "59          Car              20.550          2.0       146.0      103.2   \n",
       "\n",
       "    Width  Length  Curb_weight  Fuel_capacity  Fuel_efficiency Latest_Launch  \\\n",
       "76   73.6   208.5        3.868           20.0               22      8/3/2012   \n",
       "56   79.1   224.5        4.241           25.1               18     8/16/2012   \n",
       "95   71.3   177.1        4.125           21.1               20     3/17/2011   \n",
       "41   78.8   192.6        4.245           32.0               15      1/6/2012   \n",
       "59   68.9   177.6        3.219           15.3               24     3/21/2012   \n",
       "\n",
       "    Power_perf_factor Latest_Launch   year    month  day  \n",
       "76         113.540207     2012-08-03  2012   August    3  \n",
       "56          89.401935     2012-08-16  2012   August   16  \n",
       "95         139.982294     2011-03-17  2011    March   17  \n",
       "41          71.135292     2012-01-06  2012  January    6  \n",
       "59          60.087967     2012-03-21  2012    March   21  "
      ]
     },
     "execution_count": 44,
     "metadata": {},
     "output_type": "execute_result"
    }
   ],
   "source": [
    "data[\"month\"].replace({\n",
    "    \n",
    "    1 : \"January\",\n",
    "    2 : \"February\",\n",
    "    3 : \"March\",\n",
    "    4 : \"April\",\n",
    "    5 : \"May\",\n",
    "    6 : \"June\",\n",
    "    7 : \"July\",\n",
    "    8 : \"August\",\n",
    "    9 : \"September\",\n",
    "    10 : \"October\",\n",
    "    11: \"November\",\n",
    "    12 : \"December\"\n",
    "    \n",
    "}, inplace = True)\n",
    "\n",
    "data.sample(5)"
   ]
  },
  {
   "cell_type": "code",
   "execution_count": 45,
   "id": "5e7db254",
   "metadata": {},
   "outputs": [],
   "source": [
    "from sklearn.preprocessing import LabelEncoder                           #label encoder"
   ]
  },
  {
   "cell_type": "code",
   "execution_count": 46,
   "id": "d7fddd5b",
   "metadata": {},
   "outputs": [],
   "source": [
    "le = LabelEncoder()"
   ]
  },
  {
   "cell_type": "code",
   "execution_count": 48,
   "id": "2306a292",
   "metadata": {},
   "outputs": [
    {
     "name": "stdout",
     "output_type": "stream",
     "text": [
      "Passenger\n",
      "Car\n"
     ]
    }
   ],
   "source": [
    "for item in data.Vehicle_type.unique():\n",
    "    print(item)"
   ]
  },
  {
   "cell_type": "code",
   "execution_count": 49,
   "id": "7151438d",
   "metadata": {},
   "outputs": [],
   "source": [
    "data[\"le_Vehicle_type\"] = le.fit_transform(data.Vehicle_type)             #passenger be \"1\" & car be \"0\" "
   ]
  },
  {
   "cell_type": "code",
   "execution_count": 53,
   "id": "d1439a59",
   "metadata": {
    "scrolled": true
   },
   "outputs": [
    {
     "data": {
      "text/html": [
       "<div>\n",
       "<style scoped>\n",
       "    .dataframe tbody tr th:only-of-type {\n",
       "        vertical-align: middle;\n",
       "    }\n",
       "\n",
       "    .dataframe tbody tr th {\n",
       "        vertical-align: top;\n",
       "    }\n",
       "\n",
       "    .dataframe thead th {\n",
       "        text-align: right;\n",
       "    }\n",
       "</style>\n",
       "<table border=\"1\" class=\"dataframe\">\n",
       "  <thead>\n",
       "    <tr style=\"text-align: right;\">\n",
       "      <th></th>\n",
       "      <th>Manufacturer</th>\n",
       "      <th>Model</th>\n",
       "      <th>Sales_in_thousands</th>\n",
       "      <th>__year_resale_value</th>\n",
       "      <th>Vehicle_type</th>\n",
       "      <th>Price_in_thousands</th>\n",
       "      <th>Engine_size</th>\n",
       "      <th>Horsepower</th>\n",
       "      <th>Wheelbase</th>\n",
       "      <th>Width</th>\n",
       "      <th>...</th>\n",
       "      <th>Curb_weight</th>\n",
       "      <th>Fuel_capacity</th>\n",
       "      <th>Fuel_efficiency</th>\n",
       "      <th>Latest_Launch</th>\n",
       "      <th>Power_perf_factor</th>\n",
       "      <th>Latest_Launch</th>\n",
       "      <th>year</th>\n",
       "      <th>month</th>\n",
       "      <th>day</th>\n",
       "      <th>le_Vehicle_type</th>\n",
       "    </tr>\n",
       "  </thead>\n",
       "  <tbody>\n",
       "    <tr>\n",
       "      <th>113</th>\n",
       "      <td>Oldsmobile</td>\n",
       "      <td>Silhouette</td>\n",
       "      <td>24.361</td>\n",
       "      <td>15.24</td>\n",
       "      <td>Car</td>\n",
       "      <td>25.345</td>\n",
       "      <td>3.4</td>\n",
       "      <td>185.0</td>\n",
       "      <td>120.0</td>\n",
       "      <td>72.2</td>\n",
       "      <td>...</td>\n",
       "      <td>3.948</td>\n",
       "      <td>25.0</td>\n",
       "      <td>22</td>\n",
       "      <td>6/25/2011</td>\n",
       "      <td>76.096570</td>\n",
       "      <td>2011-06-25</td>\n",
       "      <td>2011</td>\n",
       "      <td>June</td>\n",
       "      <td>25</td>\n",
       "      <td>0</td>\n",
       "    </tr>\n",
       "    <tr>\n",
       "      <th>11</th>\n",
       "      <td>Buick</td>\n",
       "      <td>Regal</td>\n",
       "      <td>39.350</td>\n",
       "      <td>13.74</td>\n",
       "      <td>Passenger</td>\n",
       "      <td>25.300</td>\n",
       "      <td>3.8</td>\n",
       "      <td>240.0</td>\n",
       "      <td>109.0</td>\n",
       "      <td>72.7</td>\n",
       "      <td>...</td>\n",
       "      <td>3.543</td>\n",
       "      <td>17.5</td>\n",
       "      <td>23</td>\n",
       "      <td>9/3/2011</td>\n",
       "      <td>95.636703</td>\n",
       "      <td>2011-09-03</td>\n",
       "      <td>2011</td>\n",
       "      <td>September</td>\n",
       "      <td>3</td>\n",
       "      <td>1</td>\n",
       "    </tr>\n",
       "    <tr>\n",
       "      <th>47</th>\n",
       "      <td>Ford</td>\n",
       "      <td>Mustang</td>\n",
       "      <td>113.369</td>\n",
       "      <td>12.76</td>\n",
       "      <td>Passenger</td>\n",
       "      <td>21.560</td>\n",
       "      <td>3.8</td>\n",
       "      <td>190.0</td>\n",
       "      <td>101.3</td>\n",
       "      <td>73.1</td>\n",
       "      <td>...</td>\n",
       "      <td>3.203</td>\n",
       "      <td>15.7</td>\n",
       "      <td>24</td>\n",
       "      <td>1/31/2012</td>\n",
       "      <td>76.509185</td>\n",
       "      <td>2012-01-31</td>\n",
       "      <td>2012</td>\n",
       "      <td>January</td>\n",
       "      <td>31</td>\n",
       "      <td>1</td>\n",
       "    </tr>\n",
       "  </tbody>\n",
       "</table>\n",
       "<p>3 rows × 21 columns</p>\n",
       "</div>"
      ],
      "text/plain": [
       "    Manufacturer       Model  Sales_in_thousands  __year_resale_value  \\\n",
       "113   Oldsmobile  Silhouette              24.361                15.24   \n",
       "11         Buick       Regal              39.350                13.74   \n",
       "47          Ford     Mustang             113.369                12.76   \n",
       "\n",
       "    Vehicle_type  Price_in_thousands  Engine_size  Horsepower  Wheelbase  \\\n",
       "113          Car              25.345          3.4       185.0      120.0   \n",
       "11     Passenger              25.300          3.8       240.0      109.0   \n",
       "47     Passenger              21.560          3.8       190.0      101.3   \n",
       "\n",
       "     Width  ...  Curb_weight  Fuel_capacity  Fuel_efficiency  Latest_Launch  \\\n",
       "113   72.2  ...        3.948           25.0               22      6/25/2011   \n",
       "11    72.7  ...        3.543           17.5               23       9/3/2011   \n",
       "47    73.1  ...        3.203           15.7               24      1/31/2012   \n",
       "\n",
       "    Power_perf_factor  Latest_Launch   year      month day  le_Vehicle_type  \n",
       "113         76.096570      2011-06-25  2011       June  25                0  \n",
       "11          95.636703      2011-09-03  2011  September   3                1  \n",
       "47          76.509185      2012-01-31  2012    January  31                1  \n",
       "\n",
       "[3 rows x 21 columns]"
      ]
     },
     "execution_count": 53,
     "metadata": {},
     "output_type": "execute_result"
    }
   ],
   "source": [
    "data.sample(3)"
   ]
  },
  {
   "cell_type": "code",
   "execution_count": null,
   "id": "12da2164",
   "metadata": {},
   "outputs": [],
   "source": []
  }
 ],
 "metadata": {
  "kernelspec": {
   "display_name": "Python 3 (ipykernel)",
   "language": "python",
   "name": "python3"
  },
  "language_info": {
   "codemirror_mode": {
    "name": "ipython",
    "version": 3
   },
   "file_extension": ".py",
   "mimetype": "text/x-python",
   "name": "python",
   "nbconvert_exporter": "python",
   "pygments_lexer": "ipython3",
   "version": "3.9.13"
  }
 },
 "nbformat": 4,
 "nbformat_minor": 5
}
