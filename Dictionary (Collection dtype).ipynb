{
 "cells": [
  {
   "cell_type": "code",
   "execution_count": 1,
   "id": "e1a706d9",
   "metadata": {},
   "outputs": [
    {
     "name": "stdout",
     "output_type": "stream",
     "text": [
      "{'student1': {'name': 'Anand', 'age': 23, 'job id': 1001}, 'student2': {'name': 'Emil', 'age': 24, 'job id': 1002}, 'student3': {'name': 'Jhon', 'age': 23, 'job id': 1003}}\n"
     ]
    }
   ],
   "source": [
    "#Dictionary\n",
    "\n",
    "student1 = {\n",
    "    \"name\" : \"Anand\",\n",
    "    \"age\" : 23,\n",
    "    \"job id\" : 1001\n",
    "}\n",
    "\n",
    "student2 = {\n",
    "    \"name\" : \"Emil\",\n",
    "    \"age\" : 24,\n",
    "    \"job id\" : 1002\n",
    "}\n",
    "\n",
    "student3 = {\n",
    "    \"name\" : \"Jhon\",\n",
    "    \"age\" : 23,\n",
    "    \"job id\" : 1003\n",
    "}\n",
    "\n",
    "today_class = {\n",
    "    \"student1\" : student1,\n",
    "    \"student2\" : student2,\n",
    "    \"student3\" : student3\n",
    "}\n",
    "\n",
    "print(today_class)"
   ]
  },
  {
   "cell_type": "code",
   "execution_count": 3,
   "id": "bb6bc529",
   "metadata": {},
   "outputs": [
    {
     "data": {
      "text/plain": [
       "{'name': 'Anand', 'age': 23, 'job id': 1001}"
      ]
     },
     "execution_count": 3,
     "metadata": {},
     "output_type": "execute_result"
    }
   ],
   "source": [
    "today_class.get(\"student1\")"
   ]
  },
  {
   "cell_type": "code",
   "execution_count": 10,
   "id": "fc6d1428",
   "metadata": {},
   "outputs": [
    {
     "name": "stdout",
     "output_type": "stream",
     "text": [
      "Anand\n"
     ]
    }
   ],
   "source": [
    "print(today_class[\"student1\"][\"name\"])"
   ]
  },
  {
   "cell_type": "code",
   "execution_count": 11,
   "id": "f258aa44",
   "metadata": {},
   "outputs": [
    {
     "data": {
      "text/plain": [
       "dict_keys(['student1', 'student2', 'student3'])"
      ]
     },
     "execution_count": 11,
     "metadata": {},
     "output_type": "execute_result"
    }
   ],
   "source": [
    "today_class.keys()"
   ]
  },
  {
   "cell_type": "code",
   "execution_count": 12,
   "id": "e9f567c3",
   "metadata": {},
   "outputs": [
    {
     "data": {
      "text/plain": [
       "dict_values([{'name': 'Anand', 'age': 23, 'job id': 1001}, {'name': 'Emil', 'age': 24, 'job id': 1002}, {'name': 'Jhon', 'age': 23, 'job id': 1003}])"
      ]
     },
     "execution_count": 12,
     "metadata": {},
     "output_type": "execute_result"
    }
   ],
   "source": [
    "today_class.values()"
   ]
  },
  {
   "cell_type": "code",
   "execution_count": 14,
   "id": "368e3fb2",
   "metadata": {},
   "outputs": [
    {
     "data": {
      "text/plain": [
       "dict_items([('student1', {'name': 'Anand', 'age': 23, 'job id': 1001}), ('student2', {'name': 'Emil', 'age': 24, 'job id': 1002}), ('student3', {'name': 'Jhon', 'age': 23, 'job id': 1003})])"
      ]
     },
     "execution_count": 14,
     "metadata": {},
     "output_type": "execute_result"
    }
   ],
   "source": [
    "today_class.items()"
   ]
  },
  {
   "cell_type": "code",
   "execution_count": 20,
   "id": "db437558",
   "metadata": {},
   "outputs": [
    {
     "data": {
      "text/plain": [
       "'Anand'"
      ]
     },
     "execution_count": 20,
     "metadata": {},
     "output_type": "execute_result"
    }
   ],
   "source": [
    "student1.pop(\"name\")"
   ]
  },
  {
   "cell_type": "code",
   "execution_count": 21,
   "id": "6b3d9d5f",
   "metadata": {},
   "outputs": [
    {
     "data": {
      "text/plain": [
       "{'student1': {'age': 23, 'job id': 1001},\n",
       " 'student2': {'name': 'Emil', 'age': 24, 'job id': 1002}}"
      ]
     },
     "execution_count": 21,
     "metadata": {},
     "output_type": "execute_result"
    }
   ],
   "source": [
    "today_class"
   ]
  },
  {
   "cell_type": "code",
   "execution_count": 22,
   "id": "ebcc5b36",
   "metadata": {},
   "outputs": [
    {
     "data": {
      "text/plain": [
       "('student2', {'name': 'Emil', 'age': 24, 'job id': 1002})"
      ]
     },
     "execution_count": 22,
     "metadata": {},
     "output_type": "execute_result"
    }
   ],
   "source": [
    "today_class.popitem()"
   ]
  },
  {
   "cell_type": "code",
   "execution_count": 23,
   "id": "2c701054",
   "metadata": {},
   "outputs": [
    {
     "data": {
      "text/plain": [
       "{'student1': {'age': 23, 'job id': 1001}}"
      ]
     },
     "execution_count": 23,
     "metadata": {},
     "output_type": "execute_result"
    }
   ],
   "source": [
    "today_class"
   ]
  },
  {
   "cell_type": "code",
   "execution_count": 2,
   "id": "f44bb3a0",
   "metadata": {},
   "outputs": [
    {
     "data": {
      "text/plain": [
       "{'student1': {'name': 'Anand', 'age': 23, 'job id': 1001},\n",
       " 'student2': {'name': 'Emil', 'age': 24, 'job id': 1002},\n",
       " 'student3': {'name': 'Jhon', 'age': 23, 'job id': 1003}}"
      ]
     },
     "execution_count": 2,
     "metadata": {},
     "output_type": "execute_result"
    }
   ],
   "source": [
    "today_class"
   ]
  },
  {
   "cell_type": "code",
   "execution_count": 10,
   "id": "9da76e65",
   "metadata": {},
   "outputs": [
    {
     "name": "stdout",
     "output_type": "stream",
     "text": [
      "student1 {'name': 'Anand', 'age': 23, 'job id': 1001}\n",
      "student2 {'name': 'Emil', 'age': 24, 'job id': 1002}\n",
      "student3 {'name': 'Jhon', 'age': 23, 'job id': 1003}\n"
     ]
    }
   ],
   "source": [
    "for x,y in today_class.items():\n",
    "    print(x, y)"
   ]
  },
  {
   "cell_type": "code",
   "execution_count": 12,
   "id": "2acf5568",
   "metadata": {},
   "outputs": [
    {
     "name": "stdout",
     "output_type": "stream",
     "text": [
      "name joe\n",
      "age 18\n",
      "place Michigan\n"
     ]
    }
   ],
   "source": [
    "dict1 = {\n",
    "    \"name\" : \"joe\",\n",
    "    \"age\" : 18,\n",
    "    \"place\" : \"Michigan\"\n",
    "}\n",
    "\n",
    "for x,y in dict1.items():\n",
    "    print(x, y)"
   ]
  },
  {
   "cell_type": "code",
   "execution_count": null,
   "id": "77058a63",
   "metadata": {},
   "outputs": [],
   "source": []
  }
 ],
 "metadata": {
  "kernelspec": {
   "display_name": "Python 3 (ipykernel)",
   "language": "python",
   "name": "python3"
  },
  "language_info": {
   "codemirror_mode": {
    "name": "ipython",
    "version": 3
   },
   "file_extension": ".py",
   "mimetype": "text/x-python",
   "name": "python",
   "nbconvert_exporter": "python",
   "pygments_lexer": "ipython3",
   "version": "3.9.13"
  }
 },
 "nbformat": 4,
 "nbformat_minor": 5
}
